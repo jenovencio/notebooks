{
 "cells": [
  {
   "cell_type": "code",
   "execution_count": null,
   "metadata": {},
   "outputs": [],
   "source": [
    "from pyfeti.src.utils import DomainCreator, dict2dfmap, create_selection_operator, DiskCreator, DofManager\n",
    "from pyfeti.src.feti_solver import SerialFETIsolver, SolverManager, cyclic_eig\n",
    "from pyfeti.src.linalg import ProjLinearSys\n",
    "from pyfeti.src.cyclic import Cyclic_Constraint\n",
    "from pyfeti.cases.case_generator import FETIcase_builder\n",
    "from scipy import sparse\n",
    "import amfe\n",
    "import numpy as np\n",
    "import matplotlib.pyplot as plt\n"
   ]
  },
  {
   "cell_type": "code",
   "execution_count": null,
   "metadata": {},
   "outputs": [],
   "source": [
    "r_in_1 = 6\n",
    "r_out_1 = 18\n",
    "angle=45\n",
    "theta_0=(90-angle/2)\n",
    "angle_divisions = 21\n",
    "radial_divisions = 12\n",
    "dobj1 = DiskCreator(r_in=r_in_1,r_out=r_out_1, sector_angle=angle, theta_0=theta_0,angle_divisions=angle_divisions,radial_divisions=radial_divisions)\n",
    "\n",
    "\n",
    "mesh_file1 = 'mesh_disk.msh'\n",
    "dobj1.save_gmsh_file(mesh_file1)\n",
    "\n",
    "m1 = amfe.Mesh()\n",
    "m1.import_msh(mesh_file1)\n",
    "\n",
    "\n",
    "\n",
    "fig, ax1 = plt.subplots(1,1,figsize=(15,15))\n",
    "amfe.plot2Dmesh(m1,ax=ax1)\n",
    "\n",
    "\n",
    "mult=1.2\n",
    "for ax in (ax1,):\n",
    "    ax.set_xlim([-mult*r_out_1,mult*r_out_1])\n",
    "    ax.set_ylim([-mult*r_out_1,mult*r_out_1])\n",
    "    ax.set_aspect('equal')\n",
    "    ax.set_xlabel('Width [m]')\n",
    "    ax.set_ylabel('Heigh [m]')\n",
    "plt.legend('off')"
   ]
  },
  {
   "cell_type": "code",
   "execution_count": null,
   "metadata": {},
   "outputs": [],
   "source": [
    "m_list = [m1.rot_z(i*angle) for i in range(int(360/angle))]\n",
    "fig1, ax4 = plt.subplots(1,1,figsize=(15,15))\n",
    "for m in m_list:\n",
    "    ax4 = amfe.plot2Dmesh(m,ax=ax4)\n",
    "\n",
    "mult=1.2\n",
    "ax4.set_xlim([-mult*r_out_1,mult*r_out_1])\n",
    "ax4.set_ylim([-mult*r_out_1,mult*r_out_1])\n",
    "ax4.set_aspect('equal')\n",
    "ax4.set_xlabel('Width [m]')\n",
    "ax4.set_ylabel('Heigh [m]')\n",
    "plt.legend('off')"
   ]
  },
  {
   "cell_type": "code",
   "execution_count": null,
   "metadata": {},
   "outputs": [],
   "source": [
    "# creating material\n",
    "my_material = amfe.KirchhoffMaterial(E=210.0E9, nu=0.3, rho=7.86E3, plane_stress=True, thickness=1.0)\n",
    "\n",
    "my_system1 = amfe.MechanicalSystem()\n",
    "my_system1.set_mesh_obj(m1)\n",
    "my_system1.set_domain(3,my_material)\n",
    "\n",
    "\n",
    "\n",
    "K1, _ = my_system1.assembly_class.assemble_k_and_f()\n",
    "M1 = my_system1.assembly_class.assemble_m()\n"
   ]
  },
  {
   "cell_type": "code",
   "execution_count": null,
   "metadata": {},
   "outputs": [],
   "source": [
    "val, V = np.linalg.eig(K1.A)\n",
    "val"
   ]
  },
  {
   "cell_type": "code",
   "execution_count": null,
   "metadata": {},
   "outputs": [],
   "source": [
    "try:\n",
    "    connectivity = []\n",
    "    for _,item in m1.el_df.iloc[:, m1.node_idx:].iterrows():\n",
    "        connectivity.append(list(item.dropna().astype(dtype='int64')))\n",
    "    m1.el_df['connectivity'] = connectivity\n",
    "except:\n",
    "    pass\n",
    "    \n",
    "id_matrix = my_system1.assembly_class.id_matrix\n",
    "id_map_df = dict2dfmap(id_matrix)\n",
    "el_df = m1.el_df\n",
    "nodes_coord = m1.nodes\n",
    "dirichlet_label = 4\n",
    "#cyclic_left_label = 2\n",
    "#cyclic_right_label = 1\n",
    "cyclic_left_label = 1\n",
    "cyclic_right_label = 2\n",
    "sector_angle = angle\n",
    "unit='deg'\n",
    "tol_radius = 1.0e-3\n",
    "dimension=2\n",
    "cyc_obj = Cyclic_Constraint(id_map_df,\n",
    "                            el_df,\n",
    "                            nodes_coord,\n",
    "                            dirichlet_label,\n",
    "                            cyclic_left_label,\n",
    "                            cyclic_right_label,\n",
    "                            sector_angle,\n",
    "                            unit=unit,\n",
    "                            tol_radius = 1.0e-3,\n",
    "                            dimension=2)\n",
    "\n",
    "n = 0\n",
    "Cn = cyc_obj.build_complex_contraint(n)\n",
    "B11 = cyc_obj.s.build_B('d')\n",
    "B11 = B11 + 1.0J*0*B11\n",
    "\n",
    "B = sparse.vstack([Cn,B11]).A\n",
    "#B = B11.A\n",
    "\n",
    "BBT_inv = np.linalg.inv(B.dot(B.T))\n",
    "P = np.eye(M1.shape[0]) - B.T.dot(BBT_inv.dot(B))\n",
    "P = P"
   ]
  },
  {
   "cell_type": "code",
   "execution_count": null,
   "metadata": {},
   "outputs": [],
   "source": [
    "dtype = np.complex\n",
    "K_dict = {} \n",
    "K_dict[1] = K1 + + 1J*sparse.csr_matrix(K1.shape)\n",
    "\n",
    "M_dict = {} \n",
    "M_dict[1] = M1 + + 1J*sparse.csr_matrix(M1.shape)\n",
    "\n",
    "\n",
    "B_dict = {}\n",
    "B_dict = { 1 : {(1,1) : B}}\n",
    "\n",
    "if dtype == np.float:\n",
    "    mult = 1\n",
    "else:\n",
    "    mult = 2\n",
    "v = 100*np.random.rand(mult*K1.shape[0])\n",
    "v.dtype = dtype \n",
    "f_dict = {1 : v}\n",
    "\n"
   ]
  },
  {
   "cell_type": "code",
   "execution_count": null,
   "metadata": {},
   "outputs": [],
   "source": [
    "lo_obj = ProjLinearSys(K1,M1,P)\n",
    "Dp_new = lo_obj.getLinearOperator()\n",
    "\n",
    "\n",
    "u0 = P.dot(v)  \n",
    "eigval_, V_wp_ = sparse.linalg.eigsh(Dp_new ,k=9,v0=u0)\n",
    "val_wp_ = np.sort(1/eigval_)\n",
    "freq = np.sqrt(val_wp_)/(2.0*np.pi)\n",
    "freq"
   ]
  },
  {
   "cell_type": "code",
   "execution_count": null,
   "metadata": {},
   "outputs": [],
   "source": [
    "Cn.dot(u0)"
   ]
  },
  {
   "cell_type": "code",
   "execution_count": null,
   "metadata": {},
   "outputs": [],
   "source": [
    "B11.dot(u0)"
   ]
  },
  {
   "cell_type": "code",
   "execution_count": null,
   "metadata": {},
   "outputs": [],
   "source": [
    "fake_feti = SerialFETIsolver(K_dict,B_dict,f_dict,dtype=dtype,tolerance=1.0e-6)\n",
    "manager = fake_feti.manager\n",
    "manager.build_local_to_global_mapping()\n",
    "\n",
    "\n",
    "def system(u,tol=1.0e-12):\n",
    "    f = P.T.dot(M1.dot(P.dot(u)))\n",
    "    f_dict = manager.vector2localdict(f,manager.global2local_primal_dofs)\n",
    "    feti_obj = SerialFETIsolver(K_dict,B_dict,f_dict,tolerance=tol,dtype=dtype,max_int=500)\n",
    "    solution_obj = feti_obj.solve()\n",
    "    u_dict = solution_obj.u_dict\n",
    "    return solution_obj.displacement\n",
    "    \n",
    "un = system(u0)\n",
    "u0 = P.dot(v)  "
   ]
  },
  {
   "cell_type": "code",
   "execution_count": null,
   "metadata": {},
   "outputs": [],
   "source": [
    "B.dot(u0)"
   ]
  },
  {
   "cell_type": "code",
   "execution_count": null,
   "metadata": {},
   "outputs": [],
   "source": [
    "system(u0)\n",
    "un = system(u0)"
   ]
  },
  {
   "cell_type": "code",
   "execution_count": null,
   "metadata": {},
   "outputs": [],
   "source": [
    "D_wp = sparse.linalg.LinearOperator(shape=M1.shape, matvec = lambda x : system(x), dtype=dtype)"
   ]
  },
  {
   "cell_type": "code",
   "execution_count": null,
   "metadata": {},
   "outputs": [],
   "source": [
    "eigval_without_projection_, V_wp_ = sparse.linalg.eigs(D_wp,k=9,v0=u0)\n"
   ]
  },
  {
   "cell_type": "code",
   "execution_count": null,
   "metadata": {},
   "outputs": [],
   "source": [
    "val_wp_ = np.sort(1/-eigval_without_projection_)\n",
    "freq_dual_wp_ = np.real(np.sqrt(val_wp_)/(2.0*np.pi))\n",
    "freq_dual_wp_"
   ]
  },
  {
   "cell_type": "code",
   "execution_count": null,
   "metadata": {},
   "outputs": [],
   "source": [
    "eigval_without_projection_"
   ]
  },
  {
   "cell_type": "code",
   "execution_count": null,
   "metadata": {},
   "outputs": [],
   "source": [
    "\n",
    "u1=V_wp_\n",
    "my_system1.u_output = list(u1.T)\n"
   ]
  },
  {
   "cell_type": "code",
   "execution_count": null,
   "metadata": {},
   "outputs": [],
   "source": [
    "B.dot(u1[:,0])"
   ]
  },
  {
   "cell_type": "code",
   "execution_count": null,
   "metadata": {},
   "outputs": [],
   "source": [
    "p0 = 10.0\n",
    "fig, ax1_list = plt.subplots(3,3,figsize=(15,15))\n",
    "counter = 0\n",
    "offset = 8\n",
    "delta_ = 1.0\n",
    "mult = 1.1\n",
    "for ax_ij in ax1_list:\n",
    "    for ax in ax_ij:\n",
    "        amfe.plot_2D_system_solution(my_system1,u_id=(counter),ax=ax,factor=p0)\n",
    "        ax.set_xlim([-mult*r_out_1,mult*r_out_1])\n",
    "        ax.set_ylim([-mult*r_out_1,mult*r_out_1])\n",
    "        ax.set_aspect('equal')\n",
    "        ax.set_xlabel('Width [m]')\n",
    "        ax.set_ylabel('Heigh [m]')\n",
    "        counter+=1\n",
    "plt.tight_layout()\n",
    "plt.legend('off')"
   ]
  },
  {
   "cell_type": "code",
   "execution_count": null,
   "metadata": {},
   "outputs": [],
   "source": [
    "from amfe.cyclic.cyclic import create_voigt_rotation_matrix, create_rotated_component\n",
    "\n",
    "\n",
    "my_comp = amfe.MechanicalSystem()\n",
    "my_comp.set_mesh_obj(m1)\n",
    "my_comp.set_domain(3,my_material)\n",
    "my_comp.u_output = list(u1.T)\n",
    "\n",
    "sys_list = []\n",
    "v1 = u1.copy()\n",
    "for i,m in enumerate(m_list):\n",
    "    my_system1 = amfe.MechanicalSystem()\n",
    "    my_system1.set_mesh_obj(m)\n",
    "    my_system1.set_domain(3,my_material)\n",
    "    theta = np.deg2rad(i*angle)\n",
    "    R = create_voigt_rotation_matrix(u1.shape[0],theta,unit='rad')\n",
    "    ej_n_theta = np.exp(-1J*i*n*theta)     \n",
    "    v = R.dot(ej_n_theta*v1)\n",
    "    my_system1.u_output = list(v.T)\n",
    "    #comp = create_rotated_component(my_comp,cyc_obj.s,sector_id=i, node_id=n, theta=theta, compute_left=True, unit='rad', dimension=2)\n",
    "    sys_list.append(my_system1)\n",
    "    \n",
    "    \n",
    "p0 = 10.0\n",
    "fig, ax1_list = plt.subplots(3,3,figsize=(15,15))\n",
    "counter = 0\n",
    "offset = 8\n",
    "delta_ = 1.0\n",
    "mult = 1.1\n",
    "for ax_ij in ax1_list:\n",
    "    for ax in ax_ij:\n",
    "        for sys in sys_list:\n",
    "            amfe.plot_2D_system_solution(sys,u_id=(counter),ax=ax,factor=p0)\n",
    "        ax.set_xlim([-mult*r_out_1,mult*r_out_1])\n",
    "        ax.set_ylim([-mult*r_out_1,mult*r_out_1])\n",
    "        ax.set_aspect('equal')\n",
    "        ax.set_xlabel('Width [m]')\n",
    "        ax.set_ylabel('Heigh [m]')\n",
    "        counter+=1\n",
    "plt.tight_layout()\n",
    "plt.legend('off')"
   ]
  },
  {
   "cell_type": "code",
   "execution_count": null,
   "metadata": {},
   "outputs": [],
   "source": [
    "n"
   ]
  },
  {
   "cell_type": "code",
   "execution_count": null,
   "metadata": {},
   "outputs": [],
   "source": [
    "r_in_1 = 6\n",
    "r_out_1 = 12\n",
    "r_in_2 = r_out_1\n",
    "r_out_2 = 18\n",
    "angle=45\n",
    "theta_0=(90-angle/2)\n",
    "angle_divisions = 3\n",
    "radial_divisions = 3\n",
    "dobj1 = DiskCreator(r_in=r_in_1,r_out=r_out_1, sector_angle=angle, theta_0=theta_0,angle_divisions=angle_divisions,radial_divisions=radial_divisions)\n",
    "dobj2 = DiskCreator(r_in=r_in_2,r_out=r_out_2, sector_angle=angle, theta_0=theta_0,angle_divisions=angle_divisions,radial_divisions=radial_divisions)\n",
    "\n",
    "mesh_file1 = 'mesh_1.msh'\n",
    "mesh_file2 = 'mesh_2.msh'\n",
    "dobj1.save_gmsh_file(mesh_file1)\n",
    "dobj2.save_gmsh_file(mesh_file2)\n",
    "\n",
    "m1 = amfe.Mesh()\n",
    "m1.import_msh(mesh_file1)\n",
    "\n",
    "m2 = amfe.Mesh()\n",
    "m2.import_msh(mesh_file2)\n",
    "\n",
    "fig, ((ax1,ax2),(ax3,ax4)) = plt.subplots(2,2,figsize=(15,15))\n",
    "amfe.plot2Dmesh(m1,ax=ax1)\n",
    "amfe.plot2Dmesh(m2,ax=ax1)\n",
    "amfe.plot2Dmesh(m1,ax=ax2)\n",
    "amfe.plot2Dmesh(m2,ax=ax3)\n",
    "\n",
    "mult=1.2\n",
    "for ax in (ax1,ax2,ax3,ax4):\n",
    "    ax.set_xlim([-mult*r_out_2,mult*r_out_2])\n",
    "    ax.set_ylim([-mult*r_out_2,mult*r_out_2])\n",
    "    ax.set_aspect('equal')\n",
    "    ax.set_xlabel('Width [m]')\n",
    "    ax.set_ylabel('Heigh [m]')\n",
    "plt.legend('off')"
   ]
  },
  {
   "cell_type": "code",
   "execution_count": null,
   "metadata": {},
   "outputs": [],
   "source": []
  },
  {
   "cell_type": "code",
   "execution_count": null,
   "metadata": {},
   "outputs": [],
   "source": [
    "m1.el_df"
   ]
  },
  {
   "cell_type": "code",
   "execution_count": null,
   "metadata": {},
   "outputs": [],
   "source": [
    "m1.connectivity"
   ]
  },
  {
   "cell_type": "code",
   "execution_count": null,
   "metadata": {},
   "outputs": [],
   "source": [
    "list(m1.el_df['phys_group'])"
   ]
  },
  {
   "cell_type": "code",
   "execution_count": null,
   "metadata": {},
   "outputs": [],
   "source": [
    "my_dict = {}\n",
    "my_dict['idx_gmsh'] = list(range(1,17))\n",
    "my_dict['phys_group'] = [6, 7, 8, 9, 4, 4, 2, 2, 5, 5, 1, 1, 3, 3, 3, 3]\n",
    "my_dict['connectivity'] = [[0],\n",
    "                                   [2],\n",
    "                                   [6],\n",
    "                                   [8],\n",
    "                                   [0,1],\n",
    "                                   [1,2],\n",
    "                                   [2,5],\n",
    "                                   [5,8],\n",
    "                                   [8,7],\n",
    "                                   [7,6],\n",
    "                                   [6,3],\n",
    "                                   [3,0],\n",
    "                                   [0,1,4,3],\n",
    "                                   [1,2,5,4],\n",
    "                                   [3,4,7,6],\n",
    "                                   [4,5,8,7]]"
   ]
  },
  {
   "cell_type": "code",
   "execution_count": null,
   "metadata": {},
   "outputs": [],
   "source": [
    "import pandas as pd\n",
    "\n",
    "pd.DataFrame(my_dict)\n"
   ]
  },
  {
   "cell_type": "code",
   "execution_count": null,
   "metadata": {},
   "outputs": [],
   "source": [
    "# creating material\n",
    "my_material = amfe.KirchhoffMaterial(E=210.0E9, nu=0.3, rho=7.86E3, plane_stress=True, thickness=1.0)\n",
    "\n",
    "my_system1 = amfe.MechanicalSystem()\n",
    "my_system1.set_mesh_obj(m1)\n",
    "my_system1.set_domain(3,my_material)"
   ]
  },
  {
   "cell_type": "code",
   "execution_count": null,
   "metadata": {},
   "outputs": [],
   "source": [
    "my_system1.assembly_class.id_matrix"
   ]
  },
  {
   "cell_type": "code",
   "execution_count": null,
   "metadata": {},
   "outputs": [],
   "source": [
    "id_map_df = np.array(np.array(list(range(18))))"
   ]
  },
  {
   "cell_type": "code",
   "execution_count": null,
   "metadata": {},
   "outputs": [],
   "source": [
    "l = id_map_df.reshape(9,2)"
   ]
  },
  {
   "cell_type": "code",
   "execution_count": null,
   "metadata": {},
   "outputs": [],
   "source": [
    "l"
   ]
  },
  {
   "cell_type": "code",
   "execution_count": null,
   "metadata": {},
   "outputs": [],
   "source": [
    "pd.DataFrame(l)"
   ]
  },
  {
   "cell_type": "code",
   "execution_count": null,
   "metadata": {},
   "outputs": [],
   "source": [
    "m1.nodes"
   ]
  },
  {
   "cell_type": "code",
   "execution_count": null,
   "metadata": {},
   "outputs": [],
   "source": [
    "plt.plot(m1.nodes[:,0].T,m1.nodes[:,1].T,'o')"
   ]
  },
  {
   "cell_type": "code",
   "execution_count": null,
   "metadata": {},
   "outputs": [],
   "source": [
    "l = np.array(my_dict['phys_group'] )"
   ]
  },
  {
   "cell_type": "code",
   "execution_count": null,
   "metadata": {},
   "outputs": [],
   "source": [
    "l[[1,0,0,1]]"
   ]
  },
  {
   "cell_type": "code",
   "execution_count": null,
   "metadata": {},
   "outputs": [],
   "source": [
    "l"
   ]
  },
  {
   "cell_type": "code",
   "execution_count": null,
   "metadata": {},
   "outputs": [],
   "source": [
    "l[[True,True,False]]"
   ]
  },
  {
   "cell_type": "code",
   "execution_count": null,
   "metadata": {},
   "outputs": [],
   "source": [
    "np.zerosl = [1,1,4,10]"
   ]
  },
  {
   "cell_type": "code",
   "execution_count": null,
   "metadata": {},
   "outputs": [],
   "source": [
    "l[(True,True,False,False)]"
   ]
  },
  {
   "cell_type": "code",
   "execution_count": null,
   "metadata": {},
   "outputs": [],
   "source": [
    "K1.dtype\n",
    "\n",
    "type(K1)"
   ]
  },
  {
   "cell_type": "code",
   "execution_count": null,
   "metadata": {},
   "outputs": [],
   "source": [
    "K1.dot(v)\n",
    "\n",
    "K4 = K1.copy() + 1J*sparse.csr_matrix(K1.shape)"
   ]
  },
  {
   "cell_type": "code",
   "execution_count": null,
   "metadata": {},
   "outputs": [],
   "source": [
    "K4.A"
   ]
  },
  {
   "cell_type": "code",
   "execution_count": null,
   "metadata": {},
   "outputs": [],
   "source": [
    "K1.shape"
   ]
  },
  {
   "cell_type": "code",
   "execution_count": null,
   "metadata": {},
   "outputs": [],
   "source": [
    "K4.shape"
   ]
  },
  {
   "cell_type": "code",
   "execution_count": null,
   "metadata": {},
   "outputs": [],
   "source": [
    "lu = sparse.linalg.splu(K4)"
   ]
  },
  {
   "cell_type": "code",
   "execution_count": null,
   "metadata": {},
   "outputs": [],
   "source": [
    "lu.solve(u0)"
   ]
  },
  {
   "cell_type": "code",
   "execution_count": null,
   "metadata": {},
   "outputs": [],
   "source": [
    "v0\n"
   ]
  },
  {
   "cell_type": "code",
   "execution_count": null,
   "metadata": {},
   "outputs": [],
   "source": [
    "u0"
   ]
  },
  {
   "cell_type": "code",
   "execution_count": null,
   "metadata": {},
   "outputs": [],
   "source": []
  }
 ],
 "metadata": {
  "kernelspec": {
   "display_name": "Python 3",
   "language": "python",
   "name": "python3"
  },
  "language_info": {
   "codemirror_mode": {
    "name": "ipython",
    "version": 3
   },
   "file_extension": ".py",
   "mimetype": "text/x-python",
   "name": "python",
   "nbconvert_exporter": "python",
   "pygments_lexer": "ipython3",
   "version": "3.7.2"
  }
 },
 "nbformat": 4,
 "nbformat_minor": 2
}

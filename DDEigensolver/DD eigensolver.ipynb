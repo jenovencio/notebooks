{
 "cells": [
  {
   "cell_type": "code",
   "execution_count": 1,
   "metadata": {},
   "outputs": [
    {
     "name": "stdout",
     "output_type": "stream",
     "text": [
      "Could not load paradiso!\n",
      "Could not load paradiso!\n",
      "Warning! Using python in global path\n"
     ]
    }
   ],
   "source": [
    "from pyfeti.src.utils import DomainCreator, dict2dfmap, create_selection_operator\n",
    "from pyfeti.src.feti_solver import SerialFETIsolver, SolverManager\n",
    "from pyfeti.cases.case_generator import FETIcase_builder\n",
    "from scipy import sparse\n",
    "import amfe\n",
    "import numpy as np\n",
    "import matplotlib.pyplot as plt\n",
    "\n",
    "\n",
    "# PYFETI version : github master 0d3f947f4e5ed5df928097b044253afd48fe26ee\n",
    "\n",
    "class DofManager():\n",
    "    def __init__(self,element_df,node_df):\n",
    "        self.element_df = element_df\n",
    "        self.node_df = node_df\n",
    "        self.tag = 'phys_group'\n",
    "    \n",
    "    def get_dof_from_node(self,node_id):\n",
    "        node_df = self.node_df\n",
    "        return list(node_df.iloc[node_id])\n",
    "        \n",
    "    def get_connectivity_from_elem_id(self,elem_id): \n",
    "        element_df = self.element_df\n",
    "        return list(element_df['connectivity'].iloc[elem_id])\n",
    "    \n",
    "    def get_dof_list_from_elem_id(self,elem_id):\n",
    "        return list(map(self.get_dof_from_node,self.get_connectivity_from_elem_id(elem_id)))\n",
    "    \n",
    "    def get_elements_from_group_id(self,group_id):\n",
    "        element_df = self.element_df\n",
    "        tag = self.tag\n",
    "        return list(element_df.loc[element_df[tag] == group_id].index)\n",
    "    \n",
    "    def get_dof_list_from_group_id(self,group_id): \n",
    "        return np.sort(np.array(list(map(self.get_dof_list_from_elem_id,self.get_elements_from_group_id(group_id)))).flatten())\n",
    "    \n",
    "    def get_node_list_from_group_id(self,group_id):\n",
    "        node_list = []\n",
    "        for elem_id in self.get_elements_from_group_id(group_id): \n",
    "            node_list.extend(self.get_connectivity_from_elem_id(elem_id))\n",
    "        return np.sort(node_list)"
   ]
  },
  {
   "cell_type": "code",
   "execution_count": 2,
   "metadata": {},
   "outputs": [
    {
     "data": {
      "text/plain": [
       "<matplotlib.legend.Legend at 0x7fdd456049e8>"
      ]
     },
     "execution_count": 2,
     "metadata": {},
     "output_type": "execute_result"
    },
    {
     "data": {
      "image/png": "[encoded data removed]",
      "text/plain": [
       "<Figure size 432x288 with 1 Axes>"
      ]
     },
     "metadata": {
      "needs_background": "light"
     },
     "output_type": "display_data"
    }
   ],
   "source": [
    "width = 6\n",
    "heigh = 2\n",
    "dobj = DomainCreator(width=width,heigh=heigh,x_divisions=21,y_divisions=11)\n",
    "mesh_file = 'mesh.msh'\n",
    "dobj.save_gmsh_file(mesh_file)\n",
    "\n",
    "m1 = amfe.Mesh()\n",
    "m1.import_msh(mesh_file)\n",
    "\n",
    "m2 = m1.translation(np.array([6.,0.]))\n",
    "\n",
    "ax1 = amfe.plot2Dmesh(m1)\n",
    "amfe.plot2Dmesh(m2,ax=ax1)\n",
    "\n",
    "ax1.set_xlim([0,2*width])\n",
    "ax1.set_ylim([0,heigh])\n",
    "ax1.set_aspect('equal')\n",
    "ax1.set_xlabel('Width [m]')\n",
    "ax1.set_ylabel('Heigh [m]')\n",
    "plt.legend('off')"
   ]
  },
  {
   "cell_type": "markdown",
   "metadata": {},
   "source": [
    "# Solving Static Problem\n",
    "\n",
    "$$\n",
    "\\begin{bmatrix}\n",
    "\\mathbf{K} & \\mathbf{B^T}  \\\\\n",
    "\\mathbf{B} & \\mathbf{0}  \n",
    "\\end{bmatrix}\n",
    "\\begin{bmatrix}\n",
    "\\mathbf{u}  \\\\\n",
    "\\mathbf{\\lambda}   \n",
    "\\end{bmatrix}\n",
    "=\n",
    "\\begin{bmatrix}\n",
    "\\mathbf{f}  \\\\\n",
    "\\mathbf{0}   \n",
    "\\end{bmatrix}\n",
    "$$"
   ]
  },
  {
   "cell_type": "code",
   "execution_count": 3,
   "metadata": {},
   "outputs": [
    {
     "name": "stdout",
     "output_type": "stream",
     "text": [
      "Preallocating the stiffness matrix\n",
      "Done preallocating stiffness matrix with 200 elements and 462 dofs.\n",
      "Time taken for preallocation: 0.01 seconds.\n",
      "Preallocating the stiffness matrix\n",
      "Done preallocating stiffness matrix with 200 elements and 462 dofs.\n",
      "Time taken for preallocation: 0.00 seconds.\n"
     ]
    }
   ],
   "source": [
    "# creating material\n",
    "my_material = amfe.KirchhoffMaterial(E=210.0E9, nu=0.3, rho=7.86E3, plane_stress=True, thickness=1.0)\n",
    "\n",
    "my_system1 = amfe.MechanicalSystem()\n",
    "my_system1.set_mesh_obj(m1)\n",
    "my_system1.set_domain(3,my_material)\n",
    "\n",
    "K1, _ = my_system1.assembly_class.assemble_k_and_f()\n",
    "M1 = my_system1.assembly_class.assemble_m()\n",
    "\n",
    "\n",
    "my_system2 = amfe.MechanicalSystem()\n",
    "my_system2.set_mesh_obj(m2)\n",
    "my_system2.set_domain(3,my_material)\n",
    "\n",
    "K2, _ = my_system2.assembly_class.assemble_k_and_f()\n",
    "M2 = my_system2.assembly_class.assemble_m()"
   ]
  },
  {
   "cell_type": "code",
   "execution_count": 4,
   "metadata": {},
   "outputs": [
    {
     "data": {
      "text/plain": [
       "array([ 1.35179166e+12,  1.33755753e+12,  1.31418851e+12,  1.28220816e+12,\n",
       "        1.27038130e+12,  1.25747962e+12,  1.24233317e+12,  1.23629593e+12,\n",
       "        1.20730129e+12,  1.19545755e+12,  1.17114019e+12,  1.14263419e+12,\n",
       "        1.14204970e+12,  1.12861588e+12,  1.13126463e+12,  1.11355020e+12,\n",
       "        1.08929907e+12,  1.08504201e+12,  1.08067213e+12,  1.05903232e+12,\n",
       "        1.02837187e+12,  1.02341750e+12,  1.02398863e+12,  9.83225768e+11,\n",
       "        9.77208795e+11,  9.72873558e+11,  9.69178854e+11,  9.60841095e+11,\n",
       "        9.55984086e+11,  9.39324973e+11,  9.37915374e+11,  9.15395846e+11,\n",
       "        9.15332887e+11,  8.97038765e+11,  8.92647783e+11,  8.88717491e+11,\n",
       "        8.58826754e+11,  8.57014302e+11,  8.44233327e+11,  8.33986925e+11,\n",
       "        8.25710271e+11,  7.99564061e+11,  7.95054206e+11,  7.90573573e+11,\n",
       "        7.89226955e+11,  7.84452241e+11,  7.76582991e+11,  7.73185391e+11,\n",
       "        7.65795184e+11,  7.53956030e+11,  7.52230231e+11,  7.46152920e+11,\n",
       "        7.43769692e+11,  7.36133982e+11,  7.18021852e+11,  7.16576334e+11,\n",
       "        7.16035223e+11, -3.64761408e-04, -3.63907837e-05,  6.98382891e+11,\n",
       "        6.97889293e+11,  6.91020011e+11,  6.79156009e+11,  6.76269422e+11,\n",
       "        6.63890198e+11,  6.54650884e+11,  6.51830397e+11,  6.43074132e+11,\n",
       "        6.41844081e+11,  6.30374744e+11,  6.18136052e+11,  7.13641572e+08,\n",
       "        2.81975953e+09,  3.04086464e+09,  7.17697591e+09,  1.03069878e+10,\n",
       "        1.06520742e+10,  1.24437882e+10,  1.27187314e+10,  1.49416371e+10,\n",
       "        1.53583844e+10,  2.01130052e+10,  2.26377459e+10,  2.30153593e+10,\n",
       "        2.39055318e+10,  2.51015304e+10,  2.64148005e+10,  2.82831688e+10,\n",
       "        2.89443529e+10,  3.00070357e+10,  3.26874743e+10,  3.51564086e+10,\n",
       "        3.57754744e+10,  4.00090574e+10,  4.31202280e+10,  4.25029594e+10,\n",
       "        4.15900759e-04,  4.53425530e+10,  4.55969876e+10,  4.69887505e+10,\n",
       "        5.17177826e+10,  5.32502897e+10,  5.24178662e+10,  5.92279577e+10,\n",
       "        6.14424943e+10,  6.25279864e+10,  6.10345170e+11,  6.07424444e+11,\n",
       "        6.06757130e+11,  6.06480179e+11,  5.99139423e+11,  5.96784505e+11,\n",
       "        5.93435347e+11,  5.92370599e+11,  5.90600617e+11,  5.90602385e+11,\n",
       "        5.87993428e+11,  5.76384533e+11,  5.84712027e+11,  5.83726377e+11,\n",
       "        5.80023600e+11,  5.80858218e+11,  5.80369767e+11,  5.82345014e+11,\n",
       "        6.46234888e+10,  6.68689478e+10,  6.87654209e+10,  6.92728477e+10,\n",
       "        7.32722095e+10,  7.38762931e+10,  7.72031952e+10,  5.73626808e+11,\n",
       "        5.72350912e+11,  5.69445381e+11,  5.68871367e+11,  5.65694682e+11,\n",
       "        5.55907724e+11,  5.58887449e+11,  5.59824470e+11,  5.63321393e+11,\n",
       "        5.61615702e+11,  5.62085267e+11,  5.47700736e+11,  5.52225219e+11,\n",
       "        5.51731392e+11,  5.51109324e+11,  5.44416146e+11,  5.42862512e+11,\n",
       "        5.40432919e+11,  5.34213447e+11,  5.39250070e+11,  5.39102842e+11,\n",
       "        8.19552841e+10,  8.01289164e+10,  7.94780639e+10,  7.95274205e+10,\n",
       "        7.97138061e+10,  8.09628390e+10,  8.42457437e+10,  8.69584491e+10,\n",
       "        8.84967201e+10,  9.15210480e+10,  9.16799336e+10,  9.26998258e+10,\n",
       "        9.53124007e+10,  9.89673953e+10,  1.01397415e+11,  5.05807475e+11,\n",
       "        5.07393225e+11,  5.08977678e+11,  5.13766487e+11,  5.12926630e+11,\n",
       "        5.18466978e+11,  5.20571197e+11,  5.21339973e+11,  5.29480606e+11,\n",
       "        5.30917761e+11,  5.31288426e+11,  5.33408629e+11,  5.33317563e+11,\n",
       "        5.32669768e+11,  5.32855771e+11,  5.33037824e+11,  1.03920085e+11,\n",
       "        1.05501891e+11,  1.04279178e+11,  1.22298703e+11,  1.20654096e+11,\n",
       "        1.19249119e+11,  1.19259243e+11,  1.08884501e+11,  1.14929081e+11,\n",
       "        1.13569876e+11,  1.12544420e+11,  1.10577749e+11,  1.10926599e+11,\n",
       "        4.97327633e+11,  5.00860270e+11,  5.01376350e+11,  1.29153739e+11,\n",
       "        1.27238757e+11,  1.23757272e+11,  4.93382856e+11,  4.89875460e+11,\n",
       "        4.88773364e+11,  4.88997448e+11,  4.86942894e+11,  4.86827727e+11,\n",
       "        1.34653806e+11,  1.33793255e+11,  1.32080254e+11,  1.31226543e+11,\n",
       "        1.29412986e+11,  1.29551172e+11,  4.84601422e+11,  4.79882283e+11,\n",
       "        4.78998127e+11,  4.78465085e+11,  4.71233446e+11,  4.72161481e+11,\n",
       "        4.74152603e+11,  4.73917973e+11,  1.38337173e+11,  1.38934607e+11,\n",
       "        1.39824974e+11,  1.46845736e+11,  1.41768383e+11,  1.42728940e+11,\n",
       "        1.44534971e+11,  4.69204543e+11,  4.67589124e+11,  4.68786482e+11,\n",
       "        4.62499108e+11,  4.64615848e+11,  4.64160474e+11,  4.60404019e+11,\n",
       "        4.64064604e+11,  4.59194268e+11,  4.58319434e+11,  1.41711564e+11,\n",
       "        1.42681130e+11,  1.47030600e+11,  1.47924242e+11,  1.47870472e+11,\n",
       "        1.54842936e+11,  1.57126991e+11,  1.58973842e+11,  1.63041322e+11,\n",
       "        1.60725131e+11,  1.60721451e+11,  1.50873459e+11,  1.51968807e+11,\n",
       "        1.51791966e+11,  1.51751909e+11,  1.51759957e+11,  4.58324457e+11,\n",
       "        4.54674576e+11,  4.54144482e+11,  4.52008326e+11,  4.49507776e+11,\n",
       "        4.39159111e+11,  4.41057705e+11,  4.47028126e+11,  4.42049605e+11,\n",
       "        4.45646923e+11,  4.44735873e+11,  4.44244013e+11,  1.65275182e+11,\n",
       "        1.69392956e+11,  1.66037509e+11,  1.66248266e+11,  1.73660964e+11,\n",
       "        1.75835619e+11,  1.75468935e+11,  1.78536769e+11,  1.78288008e+11,\n",
       "        1.78165820e+11,  4.38094054e+11,  4.36992024e+11,  1.82224392e+11,\n",
       "        1.80062759e+11,  1.84520127e+11,  1.83893131e+11,  1.88870701e+11,\n",
       "        1.89098517e+11,  4.34781780e+11,  4.33596976e+11,  4.29111744e+11,\n",
       "        4.27500824e+11,  4.23766244e+11,  4.21935905e+11,  4.21354070e+11,\n",
       "        4.20594402e+11,  4.18786014e+11,  4.17037546e+11,  1.92753266e+11,\n",
       "        1.94469974e+11,  1.94376599e+11,  1.96014063e+11,  1.97163911e+11,\n",
       "        3.12567193e+11,  3.10243630e+11,  3.03089470e+11,  3.08845681e+11,\n",
       "        2.99521497e+11,  2.98375451e+11,  2.95422194e+11,  2.91335049e+11,\n",
       "        2.93164495e+11,  2.93065829e+11,  2.88072217e+11,  2.87702670e+11,\n",
       "        2.86357083e+11,  2.82797721e+11,  2.81278236e+11,  2.80464791e+11,\n",
       "        2.72980633e+11,  2.75936251e+11,  2.75033155e+11,  2.77601904e+11,\n",
       "        2.64391773e+11,  2.62234948e+11,  2.66899955e+11,  4.16217961e+11,\n",
       "        4.14743591e+11,  4.12134585e+11,  4.11351822e+11,  1.99442046e+11,\n",
       "        2.02226125e+11,  3.17753858e+11,  3.18403108e+11,  3.26180246e+11,\n",
       "        3.19913579e+11,  3.23367932e+11,  3.23303438e+11,  2.60918669e+11,\n",
       "        2.59415760e+11,  2.58115176e+11,  2.68205092e+11,  2.67812091e+11,\n",
       "        2.67928874e+11,  2.55629382e+11,  2.54402719e+11,  2.50068343e+11,\n",
       "        2.50587190e+11,  2.52261170e+11,  4.10519689e+11,  4.10207224e+11,\n",
       "        2.04122562e+11,  3.26769612e+11,  2.44797122e+11,  2.48851845e+11,\n",
       "        2.47205033e+11,  4.06641978e+11,  4.05868889e+11,  2.05129353e+11,\n",
       "        2.05879421e+11,  2.45058478e+11,  2.43336318e+11,  3.51415804e+11,\n",
       "        3.51842747e+11,  3.54957452e+11,  3.54857542e+11,  3.46731448e+11,\n",
       "        3.43528670e+11,  3.42286308e+11,  3.60664189e+11,  2.40623269e+11,\n",
       "        2.06598827e+11,  2.08131243e+11,  2.08474613e+11,  2.09372697e+11,\n",
       "        2.10917567e+11,  2.12191550e+11,  2.37419375e+11,  2.36072780e+11,\n",
       "        4.04320712e+11,  4.04064381e+11,  4.02542512e+11,  3.72259450e+11,\n",
       "        3.70233399e+11,  3.68137252e+11,  3.65753257e+11,  3.63780783e+11,\n",
       "        3.63925685e+11,  3.61598632e+11,  3.61912738e+11,  3.40857081e+11,\n",
       "        3.32421397e+11,  3.30129075e+11,  3.30515628e+11,  3.30656978e+11,\n",
       "        3.33479787e+11,  3.37760371e+11,  3.36802139e+11,  3.34045735e+11,\n",
       "        3.39545729e+11,  2.33744797e+11,  4.00850425e+11,  4.00433825e+11,\n",
       "        3.73971351e+11,  3.39589971e+11,  3.98139990e+11,  3.97880114e+11,\n",
       "        3.93525479e+11,  3.92462822e+11,  3.75445058e+11,  3.36971020e+11,\n",
       "        2.05363631e+11,  2.32452010e+11,  2.19231678e+11,  2.21013835e+11,\n",
       "        2.21703474e+11,  2.16385671e+11,  2.17346072e+11,  2.14133580e+11,\n",
       "        2.14293438e+11,  2.14561682e+11,  2.22038732e+11,  2.24587487e+11,\n",
       "        2.25320283e+11,  2.26200420e+11,  2.31548210e+11,  2.31117965e+11,\n",
       "        2.15661589e+11,  2.17680509e+11,  2.17975473e+11,  3.39318707e+11,\n",
       "        3.99105922e+11,  3.97149777e+11,  3.96296864e+11,  3.94459068e+11,\n",
       "        3.96509703e+11,  3.91232315e+11,  3.78041120e+11,  3.76534255e+11,\n",
       "        3.79095808e+11,  3.81377257e+11,  3.90401057e+11,  3.79896090e+11,\n",
       "        3.88794641e+11,  3.84502959e+11,  3.86658939e+11,  3.85842447e+11,\n",
       "        3.87398890e+11,  3.87586659e+11,  2.27344329e+11,  3.80164398e+11,\n",
       "        3.77102123e+11,  2.27002310e+11,  2.28282256e+11,  2.28339906e+11,\n",
       "        2.28917556e+11,  2.29450526e+11,  2.29776843e+11,  2.29747739e+11,\n",
       "        2.29613473e+11,  3.83362580e+11,  3.83292561e+11,  3.83147136e+11,\n",
       "        3.83744586e+11,  3.83659796e+11])"
      ]
     },
     "execution_count": 4,
     "metadata": {},
     "output_type": "execute_result"
    }
   ],
   "source": [
    "val, V = np.linalg.eig(K1.A)\n",
    "val"
   ]
  },
  {
   "cell_type": "code",
   "execution_count": 5,
   "metadata": {},
   "outputs": [],
   "source": [
    "try:\n",
    "    connectivity = []\n",
    "    for _,item in m1.el_df.iloc[:, m1.node_idx:].iterrows():\n",
    "        connectivity.append(list(item.dropna().astype(dtype='int64')))\n",
    "    m1.el_df['connectivity'] = connectivity\n",
    "except:\n",
    "    pass\n",
    "    \n",
    "id_matrix = my_system1.assembly_class.id_matrix\n",
    "id_map_df = dict2dfmap(id_matrix)\n",
    "s = create_selection_operator(id_map_df,m1.el_df)\n",
    "\n",
    "neighbors_dict = {}\n",
    "neighbors_dict['right'] = 2\n",
    "neighbors_dict['left'] = 1\n",
    "neighbors_dict['top'] = 5\n",
    "neighbors_dict['bottom'] = 4\n",
    "neighbors_dict['bottom_left_corner'] = 6\n",
    "neighbors_dict['bottom_right_corner'] = 7\n",
    "neighbors_dict['top_left_corner'] = 8\n",
    "neighbors_dict['top_right_corner'] = 9\n",
    "\n",
    "B_local_dict = {}\n",
    "for key, value in neighbors_dict.items():\n",
    "    B_local_dict[key] = s.build_B(value)"
   ]
  },
  {
   "cell_type": "code",
   "execution_count": 6,
   "metadata": {},
   "outputs": [],
   "source": [
    "zeros = np.zeros(K1.shape[0])\n",
    "case = FETIcase_builder(2,1, K1, zeros, B_local_dict,s,BC_type='G',force_scaling=1.0)\n",
    "K_dict, B_dict, f_dict = case.build_subdomain_matrices()"
   ]
  },
  {
   "cell_type": "code",
   "execution_count": 7,
   "metadata": {},
   "outputs": [],
   "source": [
    "feti_obj = SerialFETIsolver(K_dict,B_dict,f_dict,tolerance=1.0e-6)\n",
    "solution_obj = feti_obj.solve()\n",
    "u_dict = solution_obj.u_dict\n",
    "\n",
    "p0 = 0.5\n",
    "u1=p0*u_dict[1]\n",
    "u2=p0*u_dict[2]\n",
    "my_system1.u_output = [u1]\n",
    "my_system2.u_output = [u2]"
   ]
  },
  {
   "cell_type": "code",
   "execution_count": 8,
   "metadata": {},
   "outputs": [
    {
     "data": {
      "text/plain": [
       "<matplotlib.legend.Legend at 0x7fdd42b77e80>"
      ]
     },
     "execution_count": 8,
     "metadata": {},
     "output_type": "execute_result"
    },
    {
     "data": {
      "image/png": "[encoded data removed]",
      "text/plain": [
       "<Figure size 720x216 with 1 Axes>"
      ]
     },
     "metadata": {
      "needs_background": "light"
     },
     "output_type": "display_data"
    }
   ],
   "source": [
    "fig, ax2 = plt.subplots(1,1,figsize=(10,3))\n",
    "amfe.plot_2D_system_solution(my_system1,u_id=0,ax=ax2)\n",
    "amfe.plot_2D_system_solution(my_system2,u_id=0,ax=ax2)\n",
    "delta_ = 1.5\n",
    "ax2.set_xlim([-delta_*width,(2.0+delta_)*width])\n",
    "ax2.set_ylim([-delta_*heigh,(1.0+delta_)*heigh ])\n",
    "ax2.set_aspect('equal')\n",
    "ax2.set_xlabel('Width [m]')\n",
    "ax2.set_ylabel('Heigh [m]')\n",
    "plt.title('Static Problem')\n",
    "plt.legend('off')"
   ]
  },
  {
   "cell_type": "markdown",
   "metadata": {},
   "source": [
    "# Solving Hybrid Eigen-problem\n",
    "\n",
    "$$\n",
    "\\begin{bmatrix}\n",
    "\\mathbf{K} & \\mathbf{B^T}  \\\\\n",
    "\\mathbf{B} & \\mathbf{0}  \n",
    "\\end{bmatrix}\n",
    "\\begin{bmatrix}\n",
    "\\mathbf{u}  \\\\\n",
    "\\mathbf{\\lambda}   \n",
    "\\end{bmatrix}\n",
    "=\n",
    "\\omega^2\n",
    "\\begin{bmatrix}\n",
    "\\mathbf{M} & \\mathbf{0}  \\\\\n",
    "\\mathbf{0} & \\mathbf{0}  \n",
    "\\end{bmatrix}\n",
    "\\begin{bmatrix}\n",
    "\\mathbf{u}  \\\\\n",
    "\\mathbf{\\lambda}   \n",
    "\\end{bmatrix}\n",
    "$$"
   ]
  },
  {
   "cell_type": "code",
   "execution_count": 9,
   "metadata": {},
   "outputs": [
    {
     "ename": "AttributeError",
     "evalue": "B_local not found",
     "output_type": "error",
     "traceback": [
      "\u001b[0;31m---------------------------------------------------------------------------\u001b[0m",
      "\u001b[0;31mAttributeError\u001b[0m                            Traceback (most recent call last)",
      "\u001b[0;32m<ipython-input-9-7bd365f70492>\u001b[0m in \u001b[0;36m<module>\u001b[0;34m\u001b[0m\n\u001b[1;32m      1\u001b[0m \u001b[0mM_dict\u001b[0m \u001b[0;34m=\u001b[0m \u001b[0;34m{\u001b[0m\u001b[0;36m1\u001b[0m\u001b[0;34m:\u001b[0m\u001b[0mM1\u001b[0m\u001b[0;34m,\u001b[0m \u001b[0;36m2\u001b[0m\u001b[0;34m:\u001b[0m\u001b[0mM2\u001b[0m\u001b[0;34m}\u001b[0m\u001b[0;34m\u001b[0m\u001b[0;34m\u001b[0m\u001b[0m\n\u001b[0;32m----> 2\u001b[0;31m \u001b[0mmanager\u001b[0m \u001b[0;34m=\u001b[0m \u001b[0mSolverManager\u001b[0m\u001b[0;34m(\u001b[0m\u001b[0mK_dict\u001b[0m\u001b[0;34m,\u001b[0m\u001b[0mB_dict\u001b[0m\u001b[0;34m,\u001b[0m\u001b[0mf_dict\u001b[0m\u001b[0;34m,\u001b[0m\u001b[0mtolerance\u001b[0m\u001b[0;34m=\u001b[0m\u001b[0;36m1.0e-12\u001b[0m\u001b[0;34m)\u001b[0m\u001b[0;34m\u001b[0m\u001b[0;34m\u001b[0m\u001b[0m\n\u001b[0m\u001b[1;32m      3\u001b[0m \u001b[0mmanagerM\u001b[0m \u001b[0;34m=\u001b[0m \u001b[0mSolverManager\u001b[0m\u001b[0;34m(\u001b[0m\u001b[0mM_dict\u001b[0m\u001b[0;34m,\u001b[0m\u001b[0mB_dict\u001b[0m\u001b[0;34m,\u001b[0m\u001b[0mf_dict\u001b[0m\u001b[0;34m,\u001b[0m\u001b[0mtolerance\u001b[0m\u001b[0;34m=\u001b[0m\u001b[0;36m1.0e-12\u001b[0m\u001b[0;34m)\u001b[0m\u001b[0;34m\u001b[0m\u001b[0;34m\u001b[0m\u001b[0m\n\u001b[1;32m      4\u001b[0m \u001b[0mM1\u001b[0m \u001b[0;34m=\u001b[0m \u001b[0mmanagerM\u001b[0m\u001b[0;34m.\u001b[0m\u001b[0mlocal_problem_dict\u001b[0m\u001b[0;34m[\u001b[0m\u001b[0;36m1\u001b[0m\u001b[0;34m]\u001b[0m\u001b[0;34m.\u001b[0m\u001b[0mK_local\u001b[0m\u001b[0;34m\u001b[0m\u001b[0;34m\u001b[0m\u001b[0m\n\u001b[1;32m      5\u001b[0m \u001b[0mM1\u001b[0m\u001b[0;34m.\u001b[0m\u001b[0mkey_dict\u001b[0m \u001b[0;34m=\u001b[0m \u001b[0ms\u001b[0m\u001b[0;34m.\u001b[0m\u001b[0mselection_dict\u001b[0m\u001b[0;34m\u001b[0m\u001b[0;34m\u001b[0m\u001b[0m\n",
      "\u001b[0;32m~/dev/PYFETI/pyfeti/src/feti_solver.py\u001b[0m in \u001b[0;36m__init__\u001b[0;34m(self, local_problem_dict, dual_interface_algorithm, dtype, **kwargs)\u001b[0m\n\u001b[1;32m    117\u001b[0m         \u001b[0mself\u001b[0m\u001b[0;34m.\u001b[0m\u001b[0mkwargs\u001b[0m \u001b[0;34m=\u001b[0m \u001b[0mkwargs\u001b[0m\u001b[0;34m\u001b[0m\u001b[0;34m\u001b[0m\u001b[0m\n\u001b[1;32m    118\u001b[0m \u001b[0;34m\u001b[0m\u001b[0m\n\u001b[0;32m--> 119\u001b[0;31m         \u001b[0mself\u001b[0m\u001b[0;34m.\u001b[0m\u001b[0m_preprocessing\u001b[0m\u001b[0;34m(\u001b[0m\u001b[0;34m)\u001b[0m\u001b[0;34m\u001b[0m\u001b[0;34m\u001b[0m\u001b[0m\n\u001b[0m\u001b[1;32m    120\u001b[0m \u001b[0;34m\u001b[0m\u001b[0m\n\u001b[1;32m    121\u001b[0m     \u001b[0;34m@\u001b[0m\u001b[0mproperty\u001b[0m\u001b[0;34m\u001b[0m\u001b[0;34m\u001b[0m\u001b[0m\n",
      "\u001b[0;32m~/dev/PYFETI/pyfeti/src/feti_solver.py\u001b[0m in \u001b[0;36m_preprocessing\u001b[0;34m(self)\u001b[0m\n\u001b[1;32m    126\u001b[0m         \u001b[0;32mfor\u001b[0m \u001b[0mkey\u001b[0m\u001b[0;34m,\u001b[0m \u001b[0mlocal_obj\u001b[0m \u001b[0;32min\u001b[0m \u001b[0mself\u001b[0m\u001b[0;34m.\u001b[0m\u001b[0mlocal_problem_dict\u001b[0m\u001b[0;34m.\u001b[0m\u001b[0mitems\u001b[0m\u001b[0;34m(\u001b[0m\u001b[0;34m)\u001b[0m\u001b[0;34m:\u001b[0m\u001b[0;34m\u001b[0m\u001b[0;34m\u001b[0m\u001b[0m\n\u001b[1;32m    127\u001b[0m             \u001b[0mself\u001b[0m\u001b[0;34m.\u001b[0m\u001b[0mlocal_problem_id_list\u001b[0m\u001b[0;34m.\u001b[0m\u001b[0mappend\u001b[0m\u001b[0;34m(\u001b[0m\u001b[0mkey\u001b[0m\u001b[0;34m)\u001b[0m\u001b[0;34m\u001b[0m\u001b[0;34m\u001b[0m\u001b[0m\n\u001b[0;32m--> 128\u001b[0;31m             \u001b[0;32mfor\u001b[0m \u001b[0minterface_id\u001b[0m\u001b[0;34m,\u001b[0m \u001b[0mB\u001b[0m \u001b[0;32min\u001b[0m \u001b[0mlocal_obj\u001b[0m\u001b[0;34m.\u001b[0m\u001b[0mB_local\u001b[0m\u001b[0;34m.\u001b[0m\u001b[0mitems\u001b[0m\u001b[0;34m(\u001b[0m\u001b[0;34m)\u001b[0m\u001b[0;34m:\u001b[0m\u001b[0;34m\u001b[0m\u001b[0;34m\u001b[0m\u001b[0m\n\u001b[0m\u001b[1;32m    129\u001b[0m                 \u001b[0mself\u001b[0m\u001b[0;34m.\u001b[0m\u001b[0mlocal_lambda_length_dict\u001b[0m\u001b[0;34m[\u001b[0m\u001b[0minterface_id\u001b[0m\u001b[0;34m]\u001b[0m \u001b[0;34m=\u001b[0m \u001b[0mB\u001b[0m\u001b[0;34m.\u001b[0m\u001b[0mshape\u001b[0m\u001b[0;34m[\u001b[0m\u001b[0;36m0\u001b[0m\u001b[0;34m]\u001b[0m\u001b[0;34m\u001b[0m\u001b[0;34m\u001b[0m\u001b[0m\n\u001b[1;32m    130\u001b[0m \u001b[0;34m\u001b[0m\u001b[0m\n",
      "\u001b[0;32m~/miniconda3/lib/python3.7/site-packages/scipy-1.2.1-py3.7-linux-x86_64.egg/scipy/sparse/base.py\u001b[0m in \u001b[0;36m__getattr__\u001b[0;34m(self, attr)\u001b[0m\n\u001b[1;32m    687\u001b[0m             \u001b[0;32mreturn\u001b[0m \u001b[0mself\u001b[0m\u001b[0;34m.\u001b[0m\u001b[0mgetnnz\u001b[0m\u001b[0;34m(\u001b[0m\u001b[0;34m)\u001b[0m\u001b[0;34m\u001b[0m\u001b[0;34m\u001b[0m\u001b[0m\n\u001b[1;32m    688\u001b[0m         \u001b[0;32melse\u001b[0m\u001b[0;34m:\u001b[0m\u001b[0;34m\u001b[0m\u001b[0;34m\u001b[0m\u001b[0m\n\u001b[0;32m--> 689\u001b[0;31m             \u001b[0;32mraise\u001b[0m \u001b[0mAttributeError\u001b[0m\u001b[0;34m(\u001b[0m\u001b[0mattr\u001b[0m \u001b[0;34m+\u001b[0m \u001b[0;34m\" not found\"\u001b[0m\u001b[0;34m)\u001b[0m\u001b[0;34m\u001b[0m\u001b[0;34m\u001b[0m\u001b[0m\n\u001b[0m\u001b[1;32m    690\u001b[0m \u001b[0;34m\u001b[0m\u001b[0m\n\u001b[1;32m    691\u001b[0m     \u001b[0;32mdef\u001b[0m \u001b[0mtranspose\u001b[0m\u001b[0;34m(\u001b[0m\u001b[0mself\u001b[0m\u001b[0;34m,\u001b[0m \u001b[0maxes\u001b[0m\u001b[0;34m=\u001b[0m\u001b[0;32mNone\u001b[0m\u001b[0;34m,\u001b[0m \u001b[0mcopy\u001b[0m\u001b[0;34m=\u001b[0m\u001b[0;32mFalse\u001b[0m\u001b[0;34m)\u001b[0m\u001b[0;34m:\u001b[0m\u001b[0;34m\u001b[0m\u001b[0;34m\u001b[0m\u001b[0m\n",
      "\u001b[0;31mAttributeError\u001b[0m: B_local not found"
     ]
    }
   ],
   "source": [
    "M_dict = {1:M1, 2:M2}\n",
    "manager = SolverManager(K_dict,B_dict,f_dict,tolerance=1.0e-12)\n",
    "managerM = SolverManager(M_dict,B_dict,f_dict,tolerance=1.0e-12)\n",
    "M1 = managerM.local_problem_dict[1].K_local\n",
    "M1.key_dict = s.selection_dict\n",
    "M1.eliminate_by_identity(1,multiplier=0.0)\n",
    "M_dict = {1:M1, 2:M2}"
   ]
  },
  {
   "cell_type": "code",
   "execution_count": null,
   "metadata": {},
   "outputs": [],
   "source": [
    "B = manager.assemble_global_B().A\n",
    "\n",
    "M_,_ = managerM.assemble_global_K_and_f()\n",
    "K, _ = manager.assemble_global_K_and_f()\n",
    "M = M_.A\n",
    "BBT_inv = np.linalg.inv(B.dot(B.T))\n",
    "P = np.eye(M.shape[0]) + B.T.dot(BBT_inv.dot(B))\n",
    "u0 = solution_obj.displacement "
   ]
  },
  {
   "cell_type": "markdown",
   "metadata": {},
   "source": [
    "# Solving Hybrid Eigen-problem using the Primal Assembly Operator\n",
    "\n",
    "$$\n",
    "\\begin{bmatrix}\n",
    "\\mathbf{L}^T \\mathbf{K} \\mathbf{L}^T \n",
    "\\end{bmatrix}\n",
    "\\begin{bmatrix}\n",
    "\\mathbf{u}  \\\\\n",
    "\\end{bmatrix}\n",
    "=\n",
    "\\omega^2\n",
    "\\begin{bmatrix}\n",
    "\\mathbf{L}^T \\mathbf{M} \\mathbf{L} \n",
    "\\end{bmatrix}\n",
    "\\begin{bmatrix}\n",
    "\\mathbf{u}  \\\\\n",
    "\\end{bmatrix}\n",
    "$$"
   ]
  },
  {
   "cell_type": "code",
   "execution_count": null,
   "metadata": {},
   "outputs": [],
   "source": [
    "L = manager.assemble_global_L()\n",
    "Lexp = manager.assemble_global_L_exp()\n",
    "\n",
    "Kp = L.dot(K.dot(Lexp))\n",
    "Mp = L.dot(M.dot(Lexp))\n",
    "Dp = np.linalg.inv(Kp).dot(Mp)\n",
    "\n",
    "eigval_, Vp = sparse.linalg.eigsh(Dp,k=20,v0=L.dot(u0))\n",
    "eigval_\n",
    "\n",
    "val_p = np.sort(1/eigval_)\n",
    "val_p\n",
    "\n",
    "freq_p = np.sqrt(val_p)/(2.0*np.pi)\n",
    "freq_p"
   ]
  },
  {
   "cell_type": "code",
   "execution_count": null,
   "metadata": {},
   "outputs": [],
   "source": [
    "plt.bar(list(range(len(freq_p))),freq_p)\n",
    "plt.title('Frequency [Hz]')"
   ]
  },
  {
   "cell_type": "markdown",
   "metadata": {},
   "source": [
    "# Solving Hybrid Eigen-problem using the inverse iteration =\n",
    "\n",
    "$$\n",
    "\\begin{bmatrix}\n",
    "\\mathbf{K} & \\mathbf{B^T}  \\\\\n",
    "\\mathbf{B} & \\mathbf{0}  \n",
    "\\end{bmatrix}\n",
    "\\begin{bmatrix}\n",
    "\\mathbf{u_{n+1}}  \\\\\n",
    "\\mathbf{\\lambda_{n+1}}   \n",
    "\\end{bmatrix}\n",
    "=\n",
    "\\begin{bmatrix}\n",
    "\\mathbf{M} & \\mathbf{0}  \\\\\n",
    "\\mathbf{0} & \\mathbf{0}  \n",
    "\\end{bmatrix}\n",
    "\\begin{bmatrix}\n",
    "\\mathbf{u_{n}}  \\\\\n",
    "\\mathbf{\\lambda_{n}}   \n",
    "\\end{bmatrix}\n",
    "$$\n",
    "\n",
    "using initial random guess"
   ]
  },
  {
   "cell_type": "code",
   "execution_count": null,
   "metadata": {},
   "outputs": [],
   "source": [
    "def system_without_projection(u,tol=1.0e-6):\n",
    "    \n",
    "    f = M.dot(u)\n",
    "    f_dict = manager.vector2localdict(f,manager.global2local_primal_dofs)\n",
    "    feti_obj = SerialFETIsolver(K_dict,B_dict,f_dict,tolerance=tol)\n",
    "    solution_obj = feti_obj.solve()\n",
    "    u_dict = solution_obj.u_dict\n",
    "    return solution_obj.displacement\n",
    "    \n",
    "un = system_without_projection(u0)\n",
    "D_wp = sparse.linalg.LinearOperator(shape=M.shape,matvec = lambda x : system_without_projection(x))"
   ]
  },
  {
   "cell_type": "code",
   "execution_count": null,
   "metadata": {},
   "outputs": [],
   "source": [
    "eigval_without_projection_, V_wp_ = sparse.linalg.eigsh(D_wp,k=20)\n",
    "val_wp_ = np.sort(1/eigval_without_projection_)\n",
    "freq_dual_wp_ = np.sqrt(val_wp_)/(2.0*np.pi)\n",
    "freq_dual_wp_"
   ]
  },
  {
   "cell_type": "code",
   "execution_count": null,
   "metadata": {},
   "outputs": [],
   "source": [
    "plt.bar(list(range(len(freq_dual_wp_))),freq_dual_wp_)\n",
    "plt.title('Frequency [Hz]')"
   ]
  },
  {
   "cell_type": "code",
   "execution_count": null,
   "metadata": {},
   "outputs": [],
   "source": [
    "plt.plot(freq_p,freq_dual_wp_,'o')\n",
    "plt.xlabel('Frequency Primal')\n",
    "plt.ylabel('Frequency Dual without projection with initial random guess')"
   ]
  },
  {
   "cell_type": "code",
   "execution_count": null,
   "metadata": {},
   "outputs": [],
   "source": [
    "v_dict = manager.vector2localdict(V_wp_,manager.global2local_primal_dofs)\n",
    "p0 = 10.0\n",
    "u1=p0*v_dict[1]\n",
    "u2=p0*v_dict[2]\n",
    "my_system1.u_output = list(u1.T)\n",
    "my_system2.u_output = list(u2.T)"
   ]
  },
  {
   "cell_type": "code",
   "execution_count": null,
   "metadata": {},
   "outputs": [],
   "source": [
    "fig, ax1_list = plt.subplots(3,3,figsize=(20,10))\n",
    "counter = 0\n",
    "delta_ = 1.0\n",
    "for ax_ij in ax1_list:\n",
    "    for ax2 in ax_ij:\n",
    "        amfe.plot_2D_system_solution(my_system1,u_id=(19 - counter),ax=ax2)\n",
    "        amfe.plot_2D_system_solution(my_system2,u_id=(19 - counter),ax=ax2)\n",
    "        ax2.set_xlim([-delta_*width,(2.0+delta_)*width])\n",
    "        ax2.set_ylim([-delta_*heigh,(1.0+delta_)*heigh ])\n",
    "        ax2.set_aspect('equal')\n",
    "        ax2.set_xlabel('Width [m]')\n",
    "        ax2.set_ylabel('Heigh [m]')\n",
    "        ax2.set_title('Mode id = %i' %(counter+1) )\n",
    "        counter+=1\n",
    "plt.legend('off')"
   ]
  },
  {
   "cell_type": "markdown",
   "metadata": {},
   "source": [
    "# Solving Hybrid Eigen-problem using the inverse iteration =\n",
    "\n",
    "$$\n",
    "\\begin{bmatrix}\n",
    "\\mathbf{K} & \\mathbf{B^T}  \\\\\n",
    "\\mathbf{B} & \\mathbf{0}  \n",
    "\\end{bmatrix}\n",
    "\\begin{bmatrix}\n",
    "\\mathbf{u_{n+1}}  \\\\\n",
    "\\mathbf{\\lambda_{n+1}}   \n",
    "\\end{bmatrix}\n",
    "=\n",
    "\\begin{bmatrix}\n",
    "\\mathbf{M} & \\mathbf{0}  \\\\\n",
    "\\mathbf{0} & \\mathbf{0}  \n",
    "\\end{bmatrix}\n",
    "\\begin{bmatrix}\n",
    "\\mathbf{u_{n}}  \\\\\n",
    "\\mathbf{\\lambda_{n}}   \n",
    "\\end{bmatrix}\n",
    "$$\n",
    "\n",
    "using initial guess $v_0 = P v$"
   ]
  },
  {
   "cell_type": "code",
   "execution_count": null,
   "metadata": {},
   "outputs": [],
   "source": [
    "eigval_without_projection, V_wp = sparse.linalg.eigsh(D_wp,k=20,v0 = P.dot(u0))\n",
    "val_wp = np.sort(1/eigval_without_projection)\n",
    "freq_dual_wp = np.sqrt(val_wp)/(2.0*np.pi)\n",
    "freq_dual_wp"
   ]
  },
  {
   "cell_type": "code",
   "execution_count": null,
   "metadata": {},
   "outputs": [],
   "source": [
    "plt.bar(list(range(len(freq_dual_wp))),freq_dual_wp)\n",
    "plt.title('Frequency [Hz]')"
   ]
  },
  {
   "cell_type": "code",
   "execution_count": null,
   "metadata": {},
   "outputs": [],
   "source": [
    "plt.plot(freq_p,freq_dual_wp,'o')\n",
    "plt.xlabel('Frequency Primal')\n",
    "plt.ylabel('Frequency Dual without projection')"
   ]
  },
  {
   "cell_type": "code",
   "execution_count": null,
   "metadata": {},
   "outputs": [],
   "source": [
    "v_dict = manager.vector2localdict(V_wp,manager.global2local_primal_dofs)\n",
    "p0 = 10.0\n",
    "u1=p0*v_dict[1]\n",
    "u2=p0*v_dict[2]\n",
    "my_system1.u_output = list(u1.T)\n",
    "my_system2.u_output = list(u2.T)"
   ]
  },
  {
   "cell_type": "code",
   "execution_count": null,
   "metadata": {},
   "outputs": [],
   "source": [
    "fig, ax1_list = plt.subplots(3,3,figsize=(20,10))\n",
    "counter = 0\n",
    "delta_ = 1.0\n",
    "for ax_ij in ax1_list:\n",
    "    for ax2 in ax_ij:\n",
    "        amfe.plot_2D_system_solution(my_system1,u_id=(19 - counter),ax=ax2)\n",
    "        amfe.plot_2D_system_solution(my_system2,u_id=(19 - counter),ax=ax2)\n",
    "        ax2.set_xlim([-delta_*width,(2.0+delta_)*width])\n",
    "        ax2.set_ylim([-delta_*heigh,(1.0+delta_)*heigh ])\n",
    "        ax2.set_aspect('equal')\n",
    "        ax2.set_xlabel('Width [m]')\n",
    "        ax2.set_ylabel('Heigh [m]')\n",
    "        ax2.set_title('Mode id = %i' %(counter+1) )\n",
    "        counter+=1\n",
    "plt.legend('off')"
   ]
  },
  {
   "cell_type": "markdown",
   "metadata": {},
   "source": [
    "# Solving Hybrid Eigen-problem using the inverse iteration =\n",
    "\n",
    "$$\n",
    "\\begin{bmatrix}\n",
    "\\mathbf{K} & \\mathbf{B^T}  \\\\\n",
    "\\mathbf{B} & \\mathbf{0}  \n",
    "\\end{bmatrix}\n",
    "\\begin{bmatrix}\n",
    "\\mathbf{u_{n+1}}  \\\\\n",
    "\\mathbf{\\lambda_{n+1}}   \n",
    "\\end{bmatrix}\n",
    "=\n",
    "\\begin{bmatrix}\n",
    "\\mathbf{P}^T \\mathbf{M}\\mathbf{P} & \\mathbf{0}  \\\\\n",
    "\\mathbf{0} & \\mathbf{0}  \n",
    "\\end{bmatrix}\n",
    "\\begin{bmatrix}\n",
    "\\mathbf{u_{n}}  \\\\\n",
    "\\mathbf{\\lambda_{n}}   \n",
    "\\end{bmatrix}\n",
    "$$\n",
    "\n",
    "using initial guess $v_0 = P v$"
   ]
  },
  {
   "cell_type": "code",
   "execution_count": null,
   "metadata": {},
   "outputs": [],
   "source": [
    "u0 = solution_obj.displacement \n",
    "def system(u,tol=1.0e-6):\n",
    "    f = P.T.dot(M.dot(P.dot(u)))\n",
    "    f_dict = manager.vector2localdict(f,manager.global2local_primal_dofs)\n",
    "    feti_obj = SerialFETIsolver(K_dict,B_dict,f_dict,tolerance=tol)\n",
    "    solution_obj = feti_obj.solve()\n",
    "    u_dict = solution_obj.u_dict\n",
    "    return solution_obj.displacement\n",
    "    \n",
    "un = system(u0)"
   ]
  },
  {
   "cell_type": "code",
   "execution_count": null,
   "metadata": {},
   "outputs": [],
   "source": [
    "D = sparse.linalg.LinearOperator(shape=M.shape,matvec = lambda x : system(x))\n",
    "eigval, V = sparse.linalg.eigsh(D,k=20,v0 = P.dot(u0))\n",
    "val = np.sort(1/eigval)\n",
    "freq_dual = np.sqrt(val)/(2.0*np.pi)\n",
    "freq_dual"
   ]
  },
  {
   "cell_type": "code",
   "execution_count": null,
   "metadata": {},
   "outputs": [],
   "source": [
    "plt.bar(list(range(len(freq_dual))),freq_dual)\n",
    "plt.title('Frequency [Hz]')"
   ]
  },
  {
   "cell_type": "code",
   "execution_count": null,
   "metadata": {},
   "outputs": [],
   "source": [
    "plt.plot(freq_p,freq_dual,'o')\n",
    "plt.xlabel('Frequency Primal')\n",
    "plt.ylabel('Frequency Dual with Projection')"
   ]
  },
  {
   "cell_type": "code",
   "execution_count": null,
   "metadata": {},
   "outputs": [],
   "source": [
    "v_dict = manager.vector2localdict(V,manager.global2local_primal_dofs)\n",
    "p0 = 10.0\n",
    "u1=p0*v_dict[1]\n",
    "u2=p0*v_dict[2]\n",
    "my_system1.u_output = list(u1.T)\n",
    "my_system2.u_output = list(u2.T)"
   ]
  },
  {
   "cell_type": "code",
   "execution_count": null,
   "metadata": {},
   "outputs": [],
   "source": [
    "fig, ax3_list = plt.subplots(3,3,figsize=(20,10))\n",
    "counter = 0\n",
    "delta_ = 1.0\n",
    "for ax_ij in ax3_list:\n",
    "    for ax2 in ax_ij:\n",
    "        amfe.plot_2D_system_solution(my_system1,u_id=(19 - counter),ax=ax2)\n",
    "        amfe.plot_2D_system_solution(my_system2,u_id=(19 - counter),ax=ax2)\n",
    "        ax2.set_xlim([-delta_*width,(2.0+delta_)*width])\n",
    "        ax2.set_ylim([-delta_*heigh,(1.0+delta_)*heigh ])\n",
    "        ax2.set_aspect('equal')\n",
    "        ax2.set_xlabel('Width [m]')\n",
    "        ax2.set_ylabel('Heigh [m]')\n",
    "        ax2.set_title('Mode id = %i' %(counter+1) )\n",
    "        counter+=1\n",
    "plt.legend('off')"
   ]
  },
  {
   "cell_type": "markdown",
   "metadata": {},
   "source": [
    "# Total FETI approach\n",
    "\n",
    "$$\n",
    "\\begin{bmatrix}\n",
    "\\mathbf{K} & \\mathbf{B}_{total}^T  \\\\\n",
    "\\mathbf{B}_{total} & \\mathbf{0}  \n",
    "\\end{bmatrix}\n",
    "\\begin{bmatrix}\n",
    "\\mathbf{u_{n+1}}  \\\\\n",
    "\\mathbf{\\lambda_{n+1}}   \n",
    "\\end{bmatrix}\n",
    "=\n",
    "\\begin{bmatrix}\n",
    "\\mathbf{P}_{total}^T \\mathbf{M}\\mathbf{P}_{total} & \\mathbf{0}  \\\\\n",
    "\\mathbf{0} & \\mathbf{0}  \n",
    "\\end{bmatrix}\n",
    "\\begin{bmatrix}\n",
    "\\mathbf{u_{n}}  \\\\\n",
    "\\mathbf{\\lambda_{n}}   \n",
    "\\end{bmatrix}\n",
    "$$"
   ]
  },
  {
   "cell_type": "code",
   "execution_count": null,
   "metadata": {},
   "outputs": [],
   "source": [
    "K1, _ = my_system1.assembly_class.assemble_k_and_f()\n",
    "M1 = my_system1.assembly_class.assemble_m()\n",
    "\n",
    "\n",
    "my_system2 = amfe.MechanicalSystem()\n",
    "my_system2.set_mesh_obj(m2)\n",
    "my_system2.set_domain(3,my_material)\n",
    "\n",
    "K2, _ = my_system2.assembly_class.assemble_k_and_f()\n",
    "M2 = my_system2.assembly_class.assemble_m()\n",
    "\n",
    "K_dict_ = {1:K1, 2:K2}\n",
    "B_dict_total = B_dict.copy()\n",
    "\n",
    "B_dict_total[1].update( {(1,1): s.build_B(1)}) # add Dirichlet Constraint\n",
    "M_dict = {1:M1, 2:M2}"
   ]
  },
  {
   "cell_type": "code",
   "execution_count": null,
   "metadata": {},
   "outputs": [],
   "source": [
    "B_dict_total"
   ]
  },
  {
   "cell_type": "code",
   "execution_count": null,
   "metadata": {},
   "outputs": [],
   "source": [
    "managerT = SolverManager(K_dict_,B_dict_total,f_dict,tolerance=1.0e-12)\n",
    "B_ = managerT.assemble_global_B().A\n",
    "\n",
    "BBT_inv_ = np.linalg.inv(B_.dot(B_.T))\n",
    "P_ = np.eye(M.shape[0]) + B_.T.dot(BBT_inv_.dot(B_))\n",
    "#P = np.eye(M.shape[0])\n",
    "\n",
    "def systemT(u,tol=1.0e-6):\n",
    "    f_ = P_.T.dot(M.dot(P_.dot(u)))\n",
    "    f_dict_ = manager.vector2localdict(f_,managerT.global2local_primal_dofs)\n",
    "    feti_obj_ = SerialFETIsolver(K_dict_,B_dict_total,f_dict_,tolerance=tol)\n",
    "    solution_obj_ = feti_obj_.solve()\n",
    "    u_dict_ = solution_obj_.u_dict\n",
    "    return solution_obj_.displacement\n",
    "    \n",
    "un = system(u0)"
   ]
  },
  {
   "cell_type": "code",
   "execution_count": null,
   "metadata": {},
   "outputs": [],
   "source": [
    "DT = sparse.linalg.LinearOperator(shape=M.shape,matvec = lambda x : systemT(x))\n",
    "\n",
    "eigvalT, VT = sparse.linalg.eigsh(DT,k=20,v0 = P_.dot(u0))\n",
    "val_T = np.sort(1/eigvalT)\n",
    "freq_T = np.sqrt(val_T)/(2.0*np.pi)"
   ]
  },
  {
   "cell_type": "code",
   "execution_count": null,
   "metadata": {},
   "outputs": [],
   "source": [
    "v_dict = manager.vector2localdict(V,managerT.global2local_primal_dofs)\n",
    "p0 = 10.0\n",
    "u1=p0*v_dict[1]\n",
    "u2=p0*v_dict[2]\n",
    "my_system1.u_output = list(u1.T)\n",
    "my_system2.u_output = list(u2.T)"
   ]
  },
  {
   "cell_type": "code",
   "execution_count": null,
   "metadata": {},
   "outputs": [],
   "source": [
    "fig, ax4_list = plt.subplots(3,3,figsize=(20,10))\n",
    "counter = 0\n",
    "delta_ = 1.0\n",
    "for ax_ij in ax4_list:\n",
    "    for ax2 in ax_ij:\n",
    "        amfe.plot_2D_system_solution(my_system1,u_id=(19 - counter),ax=ax2)\n",
    "        amfe.plot_2D_system_solution(my_system2,u_id=(19 - counter),ax=ax2)\n",
    "        ax2.set_xlim([-delta_*width,(2.0+delta_)*width])\n",
    "        ax2.set_ylim([-delta_*heigh,(1.0+delta_)*heigh ])\n",
    "        ax2.set_aspect('equal')\n",
    "        ax2.set_xlabel('Width [m]')\n",
    "        ax2.set_ylabel('Heigh [m]')\n",
    "        ax2.set_title('Mode id = %i' %(counter+1) )\n",
    "        counter+=1\n",
    "plt.legend('off')"
   ]
  },
  {
   "cell_type": "code",
   "execution_count": null,
   "metadata": {},
   "outputs": [],
   "source": []
  }
 ],
 "metadata": {
  "kernelspec": {
   "display_name": "Python 3",
   "language": "python",
   "name": "python3"
  },
  "language_info": {
   "codemirror_mode": {
    "name": "ipython",
    "version": 3
   },
   "file_extension": ".py",
   "mimetype": "text/x-python",
   "name": "python",
   "nbconvert_exporter": "python",
   "pygments_lexer": "ipython3",
   "version": "3.7.2"
  }
 },
 "nbformat": 4,
 "nbformat_minor": 2
}

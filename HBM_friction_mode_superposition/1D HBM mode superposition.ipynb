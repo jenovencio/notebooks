{
 "cells": [
  {
   "cell_type": "code",
   "execution_count": 19,
   "metadata": {},
   "outputs": [],
   "source": [
    "import numpy as np\n",
    "from scipy import linalg\n",
    "K1 = np.array([[2.,-1.,0,],\n",
    "               [-1.,2.,-1.],\n",
    "               [0.,-1.,1.]])\n",
    "\n",
    "K2 = np.array([[1.,-1.,0,],\n",
    "               [-1.,2.,-1.],\n",
    "               [0.,-1.,2.]])\n",
    "\n",
    "M1 = 3*np.array([[1.,0.,0,],\n",
    "               [0.,1.,0.],\n",
    "               [0.,0.,1.]])\n",
    "\n",
    "M2 = 3*np.array([[1.,0.,0,],\n",
    "               [0.,1.,0.],\n",
    "               [0.,0.,1.]])\n",
    "\n",
    "\n",
    "B12 = np.array([0.,0,1.0])\n",
    "B21 = np.array([-1.,0,0.0])\n",
    "\n",
    "\n",
    "def local2block(matrix_list):\n",
    "    \n",
    "    return linalg.block_diag(*matrix_list)\n",
    "\n",
    "def local2hblock(matrix_list):\n",
    "    \n",
    "    return np.hstack(matrix_list)\n",
    "\n",
    "penalty_parameter = 1.0E-0\n",
    "\n",
    "def nonlinear(delta_u):\n",
    "    if delta_u <0.0:\n",
    "        return  -penalty_parameter*delta_u\n",
    "    else:\n",
    "        return 0.0\n",
    "    \n",
    "def deriv_nonlinear(delta_u):\n",
    "    if delta_u <0.0:\n",
    "        return  -penalty_parameter\n",
    "    else:\n",
    "        return 0.0\n",
    "\n",
    "alpha = 0.0001\n",
    "beta = 0.0000001\n",
    "\n"
   ]
  },
  {
   "cell_type": "code",
   "execution_count": 20,
   "metadata": {},
   "outputs": [],
   "source": [
    "K = local2block([K1,K2])\n",
    "M = local2block([M1,M2])\n",
    "B = local2hblock([B12,B21])"
   ]
  },
  {
   "cell_type": "code",
   "execution_count": 21,
   "metadata": {},
   "outputs": [],
   "source": [
    "from contpy import optimize as copt, frequency"
   ]
  },
  {
   "cell_type": "code",
   "execution_count": null,
   "metadata": {},
   "outputs": [],
   "source": []
  }
 ],
 "metadata": {
  "kernelspec": {
   "display_name": "Python [conda env:pyfeti] *",
   "language": "python",
   "name": "conda-env-pyfeti-py"
  },
  "language_info": {
   "codemirror_mode": {
    "name": "ipython",
    "version": 3
   },
   "file_extension": ".py",
   "mimetype": "text/x-python",
   "name": "python",
   "nbconvert_exporter": "python",
   "pygments_lexer": "ipython3",
   "version": "3.7.4"
  }
 },
 "nbformat": 4,
 "nbformat_minor": 2
}

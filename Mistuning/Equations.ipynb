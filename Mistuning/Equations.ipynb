{
 "cells": [
  {
   "cell_type": "markdown",
   "metadata": {},
   "source": [
    "$$\n",
    "\\mathbf{M}^{s}\\ddot{\\mathbf{u}}^s + \\mathbf{K}^s \\mathbf{u}^s = \\mathbf{f}^s + \\mathbf{g}^s \\;\\;\\;\\;\\;    s = 1,...,N\\\\\n",
    "\\mathbf{T} \\mathbf{u}_L^s =  \\mathbf{u}^{(s+1)}_R \\\\\n",
    "\\mathbf{T} \\mathbf{g}^s_L = \\mathbf{g}^{(s+1)}_R\n",
    "$$"
   ]
  },
  {
   "cell_type": "markdown",
   "metadata": {},
   "source": [
    "$$\n",
    "\\mathbf{u}^s  = \\frac{1}{\\bar{N}} \\sum_{n=0}^{\\bar{N}}\\mathbf{u}^n e^{+jn\\theta s}\n",
    "$$\n",
    "\n",
    "\n",
    "$$\n",
    "\\mathbf{f}^s  = \\frac{1}{\\bar{N}} \\sum_{n=0}^{\\bar{N}}\\mathbf{f}^n e^{+jn\\theta s}\n",
    "$$\n",
    "\n",
    "\n",
    "$$\n",
    "\\mathbf{g}^s  = \\frac{1}{\\bar{N}} \\sum_{n=0}^{\\bar{N}}\\mathbf{g}^n e^{+jn\\theta s}\n",
    "$$"
   ]
  },
  {
   "cell_type": "markdown",
   "metadata": {},
   "source": [
    "$$ \\mathcal{F} :u^s \\rightarrow u^n $$\n",
    "$$ \\mathbf{u}^n = \\sum_{s=1}^{N}  e^{-j n \\theta s} \\mathbf{u}^s \\$$\n",
    "\n",
    "\n",
    "$$ \\mathcal{F} \\bigg{(}\\frac{1}{\\bar{N}} \\sum_{n=0}^{\\bar{N}}\\mathbf{u}^n e^{+jn\\theta s} \\bigg{)}  = \\mathbf{u}^n \\delta_{ns}$$\n",
    "\n",
    "$$\n",
    "n = 0,...,\\bar{N}\\\\\n",
    "$$"
   ]
  },
  {
   "cell_type": "markdown",
   "metadata": {},
   "source": [
    "$$\n",
    "\\mathbf{M} \\ddot{\\mathbf{u}}^n + \\mathbf{K} \\mathbf{u}^n = \\mathbf{f}^n + \\mathbf{g}^n \n",
    "$$"
   ]
  },
  {
   "cell_type": "markdown",
   "metadata": {},
   "source": [
    "$$\n",
    "\\mathbf{T} \\mathbf{u}_L^n =   \\mathbf{u}^{n}_R e^{+jn\\theta} \\\\\n",
    "\\mathbf{T} \\mathbf{g}_L^n =   \\mathbf{g}^{n}_R e^{+jn\\theta}\n",
    "$$"
   ]
  },
  {
   "cell_type": "markdown",
   "metadata": {},
   "source": [
    "\\begin{equation}\\label{eq:eom}\n",
    "\\begin{bmatrix}\n",
    "\\mathbf{M}_{rr} & \\mathbf{M}_{rl} & \\mathbf{M}_{ri}  \\\\\n",
    "\\mathbf{M}_{lr} & \\mathbf{M}_{ll} & \\mathbf{M}_{li}  \\\\\n",
    "\\mathbf{M}_{ir} & \\mathbf{M}_{il} & \\mathbf{M}_{ii}  \\\\\n",
    "\\end{bmatrix}\n",
    "\\begin{bmatrix}\n",
    "\\ddot{\\mathbf{u}}^n_{r}  \\\\\n",
    "\\ddot{\\mathbf{u}}^n_{l}\\\\\n",
    "\\ddot{\\mathbf{u}}^n_{i}\\\\\n",
    "\\end{bmatrix}\n",
    "+\n",
    "\\begin{bmatrix}\n",
    "\\mathbf{K}_{rr} & \\mathbf{K}_{rl} & \\mathbf{K}_{ri}  \\\\\n",
    "\\mathbf{K}_{lr} & \\mathbf{K}_{ll} & \\mathbf{K}_{li}  \\\\\n",
    "\\mathbf{K}_{ir} & \\mathbf{K}_{il} & \\mathbf{K}_{ii}  \\\\\n",
    "\\end{bmatrix}\n",
    "\\begin{bmatrix}\n",
    "{\\mathbf{u}}^n_{r}  \\\\\n",
    "{\\mathbf{u}}^n_{l}\\\\\n",
    "{\\mathbf{u}}^n_{i}\\\\\n",
    "\\end{bmatrix}\n",
    "= \n",
    "\\begin{bmatrix}\n",
    "{\\mathbf{f}}^n_{r}  \\\\\n",
    "{\\mathbf{f}}^n_{l}\\\\\n",
    "{\\mathbf{f}}^n_{i}\\\\\n",
    "\\end{bmatrix}\n",
    "+\n",
    "\\begin{bmatrix}\n",
    "{\\mathbf{g}}^n_{r}  \\\\\n",
    "{\\mathbf{g}}^n_{l}\\\\\n",
    "{\\mathbf{g}}^n_{i}\\\\\n",
    "\\end{bmatrix}\n",
    "\\\\\n",
    "\\end{equation}\n"
   ]
  },
  {
   "cell_type": "markdown",
   "metadata": {},
   "source": [
    "\\begin{equation}\n",
    "\\begin{aligned}\n",
    "\\begin{bmatrix}\n",
    "\\mathbf{M}_{rr} + \\mathbf{T} \\mathbf{M}_{ll} \\mathbf{T}^T + e^{jn \\theta} \\mathbf{M}_{rl}\\mathbf{T}^T + e^{-jn \\theta}\\mathbf{T} \\mathbf{M}_{lr}   & \\mathbf{M}_{ri} + e^{-jn \\theta} \\mathbf{T} \\mathbf{M}_{li}   \\\\\n",
    " \\mathbf{M}_{ir} + e^{jn \\theta} \\mathbf{M}_{il} \\mathbf{T}^T & \\mathbf{M}_{ii}   \\\\\n",
    "\\end{bmatrix}\n",
    "\\begin{bmatrix}\n",
    "\\ddot{\\mathbf{u}}^n_{r}  \\\\\n",
    "\\ddot{\\mathbf{u}}^n_{i}\\\\\n",
    "\\end{bmatrix}\n",
    "+ \\\\\n",
    "\\begin{bmatrix}\n",
    "\\mathbf{K}_{rr} + \\mathbf{T} \\mathbf{K}_{ll} \\mathbf{T}^T + e^{jn \\theta} \\mathbf{K}_{rl} \\mathbf{T}^T + e^{-jn \\theta} T \\mathbf{K}_{lr}   & \\mathbf{K}_{ri} + e^{-jn \\theta} \\mathbf{T} \\mathbf{K}_{li}   \\\\\n",
    "\\mathbf{K}_{ir} + e^{jn \\theta} \\mathbf{K}_{il} \\mathbf{T}^T & \\mathbf{K}_{ii}   \\\\\n",
    "\\end{bmatrix}\n",
    "\\begin{bmatrix}\n",
    "{\\mathbf{u}}^n_{r}  \\\\\n",
    "{\\mathbf{u}}^n_{i}\\\\\n",
    "\\end{bmatrix}\n",
    "= \n",
    "\\begin{bmatrix}\n",
    "\\mathbf{f}^n_r + e^{-jn \\theta} T \\mathbf{f}^n_l \\\\\n",
    "\\mathbf{f}_{i}\\\\\n",
    "\\end{bmatrix}\n",
    "\\end{aligned}\n",
    "\\end{equation}"
   ]
  },
  {
   "cell_type": "markdown",
   "metadata": {},
   "source": [
    "\\begin{equation}\n",
    "\\begin{aligned}\n",
    "\\label{eq:Boolean}\n",
    "\\mathbf{u}_L = \\mathbf{B}_L \\mathbf{u} \\\\\n",
    "\\mathbf{u}_R = \\mathbf{B}_R \\mathbf{u} \\\\\n",
    "\\end{aligned}\n",
    "\\end{equation}"
   ]
  },
  {
   "cell_type": "markdown",
   "metadata": {},
   "source": [
    "\\begin{equation}\n",
    "\\mathbf{C}_{n} \\mathbf{u} = \\bigg{(} \\mathbf{B}_R  - e^{-jn\\theta} \\mathbf{T} \\mathbf{B}_L \\bigg{)} \\mathbf{u} = 0\n",
    "\\end{equation}"
   ]
  },
  {
   "cell_type": "markdown",
   "metadata": {},
   "source": [
    "\\begin{equation}\n",
    "\\label{eq:dualmatrix}\n",
    "\\begin{bmatrix}\n",
    "\\mathbf{M} & 0 \\\\\n",
    "0 & 0  \\\\\n",
    "\\end{bmatrix}\n",
    "\\begin{bmatrix}\n",
    "\\ddot{\\mathbf{u}}^n  \\\\\n",
    "\\ddot{\\boldsymbol{\\lambda}}^{n}\\\\\n",
    "\\end{bmatrix}\n",
    "+\n",
    "\\begin{bmatrix}\n",
    "\\mathbf{K} & \\mathbf{C}_{n}^{H}  \\\\\n",
    "\\mathbf{C}_{n}& 0  \\\\\n",
    "\\end{bmatrix}\n",
    "\\begin{bmatrix}\n",
    "\\mathbf{u}^n  \\\\\n",
    "\\boldsymbol{\\lambda}^{n}\\\\\n",
    "\\end{bmatrix}\n",
    "= \n",
    "\\begin{bmatrix}\n",
    "{\\mathbf{f}^n}  \\\\\n",
    "0\\\\\n",
    "\\end{bmatrix}\n",
    "\\;\\;\\;\\;\\; n=1,...,\\bar{N} \\\\\n",
    "\\end{equation}"
   ]
  },
  {
   "cell_type": "markdown",
   "metadata": {},
   "source": [
    "\\begin{equation}\n",
    "\\mathbf{L}_n = \n",
    "\\begin{bmatrix}\n",
    "\\mathbf{I} & \\mathbf{0} \\\\\n",
    "e^{jn \\theta}\\mathbf{T}^T    & \\mathbf{0}   \\\\\n",
    "\\mathbf{0} & \\mathbf{I}\\\\\n",
    "\\end{bmatrix}\n",
    "\\end{equation}"
   ]
  },
  {
   "cell_type": "markdown",
   "metadata": {},
   "source": [
    "\\begin{equation}\n",
    "\\label{eq:primal}\n",
    "\\mathbf{L}_n^H \\mathbf{M}  \\mathbf{L}_n \\ddot{q}^{n}  + \\mathbf{L}_n^H  \\mathbf{K} \\mathbf{L}_n q^{n}  = \\mathbf{L}_n^{H} f^{n} \\;\\;\\;\\;\\;  n=1,...,\\bar{N} \n",
    "\\\\\n",
    "\\end{equation}"
   ]
  },
  {
   "cell_type": "markdown",
   "metadata": {},
   "source": [
    "$$\n",
    "\\mathbf{u}^{\\prime}\n",
    "$$"
   ]
  },
  {
   "cell_type": "markdown",
   "metadata": {},
   "source": [
    "$$\n",
    "l_1\n",
    "$$\n",
    "\n",
    "$$\n",
    "l_2\n",
    "$$"
   ]
  },
  {
   "cell_type": "markdown",
   "metadata": {},
   "source": [
    "$$\n",
    "\\mathbf{P} : u \\rightarrow u^{\\prime}\n",
    "$$"
   ]
  },
  {
   "cell_type": "markdown",
   "metadata": {},
   "source": [
    "\\begin{equation}\n",
    "\\label{eq:primal}\n",
    "\\mathbf{P}_n^H \\mathbf{M}  \\mathbf{P}_n \\ddot{\\mathbf{u}}^{n}  + \\mathbf{P}_n^H  \\mathbf{K} \\mathbf{P}_n \\mathbf{u}^{n}  = \\mathbf{P}_n^{H} \\mathbf{f}^{n} \\;\\;\\;\\;\\;  n=1,...,\\bar{N} \n",
    "\\\\\n",
    "\\end{equation}"
   ]
  },
  {
   "cell_type": "markdown",
   "metadata": {},
   "source": [
    "$$\n",
    "\\mathbf{P} = \\mathbf{I} - \\mathbf{C}_n^H (\\mathbf{C}_n \\mathbf{C}_n^H)^{-1}\\mathbf{C}_n\n",
    "$$"
   ]
  },
  {
   "cell_type": "markdown",
   "metadata": {},
   "source": [
    "$$\n",
    "\\mathbf{P} = \\mathbf{I} - \\frac{1}{2}\\mathbf{C}_n^H \\mathbf{C}_n\n",
    "$$"
   ]
  },
  {
   "cell_type": "markdown",
   "metadata": {},
   "source": [
    "$$\n",
    "\\mathbf{A} = \\mathbf{V} \\mathbf{T} \\mathbf{V}^H\n",
    "$$"
   ]
  },
  {
   "cell_type": "markdown",
   "metadata": {},
   "source": [
    "\\begin{equation}\\label{eq:dualeig}\n",
    "\\begin{bmatrix}\n",
    "\\mathbf{K} & \\mathbf{C}_n^H  \\\\\n",
    "\\mathbf{C}_{n}& \\mathbf{0}  \\\\\n",
    "\\end{bmatrix}\n",
    "\\begin{bmatrix}\n",
    "\\phi_{u}  \\\\\n",
    "\\phi_{\\lambda}\n",
    "\\end{bmatrix}\n",
    "= \\omega^2\n",
    "\\begin{bmatrix}\n",
    "\\mathbf{M} & \\mathbf{0} \\\\\n",
    "\\mathbf{0} & \\mathbf{0}  \\\\\n",
    "\\end{bmatrix}\n",
    "\\begin{bmatrix}\n",
    "\\phi_{u} \\\\\n",
    "\\phi_{\\lambda}\n",
    "\\end{bmatrix}\n",
    "\\end{equation}"
   ]
  },
  {
   "cell_type": "markdown",
   "metadata": {},
   "source": [
    "\\begin{equation}\\label{eq:projdualsys}\n",
    "\\mathbf{P}_n^{H} \\mathbf{K}  \\mathbf{P}_n \\phi_u = \\omega^2  \\mathbf{P}_n^{H}  \\mathbf{M} \\mathbf{P}_n \\phi_u\n",
    "\\end{equation}"
   ]
  },
  {
   "cell_type": "markdown",
   "metadata": {},
   "source": [
    "\\begin{equation}\\label{eq:projdualsys}\n",
    " \\mathbf{K}_n \\phi_q = \\omega^2 \\mathbf{M}_n \\phi_q\n",
    "\\end{equation}"
   ]
  },
  {
   "cell_type": "markdown",
   "metadata": {},
   "source": [
    "\\begin{equation}\n",
    "\\mathcal{K} = \\{ \\mathbf{v}_0,\\; \\mathbf{D}\\mathbf{v}_1,\\; \\mathbf{D}^2\\mathbf{v}_2,\\; ... \\;,\\; \\mathbf{D}^{m-1} \\mathbf{v}_{m-1} \\} \n",
    "\\end{equation}"
   ]
  },
  {
   "cell_type": "markdown",
   "metadata": {},
   "source": [
    "\\begin{equation}\n",
    "\\mathcal{K} = \\{ \\mathbf{v}_0, \\; \\mathbf{v}_1 , \\; \\mathbf{v}_2 \\; ... \\; ,\\mathbf{v}_{m-1} \\}\n",
    "\\end{equation}\n"
   ]
  },
  {
   "cell_type": "markdown",
   "metadata": {},
   "source": [
    "\\begin{equation}\\label{eq:projdualsys}\n",
    "\\mathbf{P}_n^{H} \\mathbf{K}  \\mathbf{P}_n v_{n+1} = \\mathbf{P}_n^{H}  \\mathbf{M} \\mathbf{P}_n v_{n}\n",
    "\\end{equation}"
   ]
  },
  {
   "cell_type": "markdown",
   "metadata": {},
   "source": [
    "$$ \n",
    "\\mathbf{K}^s  = \\mathbf{K}^r + \\delta \\mathbf{K}^s \\\\\n",
    "\\mathbf{M}^s  = \\mathbf{M}^r + \\delta \\mathbf{M}^s\n",
    "$$"
   ]
  },
  {
   "cell_type": "markdown",
   "metadata": {},
   "source": [
    "$$ \n",
    " \\begin{bmatrix}\n",
    "\\mathbf{M}^D & \\mathbf{0} \\\\\n",
    "\\mathbf{0} & \\mathbf{0}  \\\\\n",
    "\\end{bmatrix}\n",
    "\\begin{bmatrix}\n",
    "\\ddot{\\mathbf{u}} \\\\\n",
    "\\boldsymbol{\\ddot{\\lambda}}\n",
    "\\end{bmatrix}\n",
    "+\n",
    "\\begin{bmatrix}\n",
    "\\mathbf{K}^D & \\mathbf{B}^T \\\\\n",
    "\\mathbf{B} & \\mathbf{0}  \\\\\n",
    "\\end{bmatrix}\n",
    "\\begin{bmatrix}\n",
    "\\mathbf{u} \\\\\n",
    "\\boldsymbol{\\lambda }\n",
    "\\end{bmatrix}\n",
    "=\n",
    "\\begin{bmatrix}\n",
    "\\mathbf{f} \\\\\n",
    "\\mathbf{0}\n",
    "\\end{bmatrix}\n",
    " $$"
   ]
  },
  {
   "cell_type": "markdown",
   "metadata": {},
   "source": [
    "\\begin{equation}\\label{eq:projdualsys}\n",
    "\\mathbf{P}_n^{H} \\mathbf{K^D}  \\mathbf{P}_n v_{n+1} = \\mathbf{P}_n^{H}  \\mathbf{M} \\mathbf{P}_n v_{n}\n",
    "\\end{equation}"
   ]
  },
  {
   "cell_type": "markdown",
   "metadata": {},
   "source": [
    "\\begin{equation}\n",
    "\\label{eq:primal}\n",
    "\\mathbf{P}_n^T \\mathbf{M^D}  \\mathbf{P}_n \\ddot{\\mathbf{u}}^{n}  + \\mathbf{P}_n^T  \\mathbf{K^D} \\mathbf{P}_n \\mathbf{u}^{n}  = \\mathbf{P}_n^{H} \\mathbf{f}^{n} \\;\\;\\;\\;\\;  n=1,...,\\bar{N} \n",
    "\\\\\n",
    "\\end{equation}"
   ]
  },
  {
   "cell_type": "markdown",
   "metadata": {},
   "source": [
    "$$\n",
    "\\mathbf{K}^{-1} \\approx  (\\mathbf{P}^H_n \\mathbf{K} \\mathbf{P}_n)^{-1} \n",
    "$$"
   ]
  },
  {
   "cell_type": "code",
   "execution_count": 2,
   "metadata": {},
   "outputs": [],
   "source": [
    "d = {}\n",
    "d[1,2] = 1"
   ]
  },
  {
   "cell_type": "code",
   "execution_count": 3,
   "metadata": {},
   "outputs": [
    {
     "data": {
      "text/plain": [
       "True"
      ]
     },
     "execution_count": 3,
     "metadata": {},
     "output_type": "execute_result"
    }
   ],
   "source": [
    "(1,2) in d"
   ]
  },
  {
   "cell_type": "code",
   "execution_count": 4,
   "metadata": {},
   "outputs": [
    {
     "data": {
      "text/plain": [
       "False"
      ]
     },
     "execution_count": 4,
     "metadata": {},
     "output_type": "execute_result"
    }
   ],
   "source": [
    "(2,2) in d"
   ]
  },
  {
   "cell_type": "markdown",
   "metadata": {},
   "source": [
    "$$\n",
    "\\delta \\mathbf{K}^s = 1000 \\bigg{(} \\sum_{i=1}^{5}\\sum_{j=1}^{5} \\mathcal{N}_{ij}(\\mu,\\sigma^2) e_i \\otimes e_j \\bigg{)}\n",
    "$$"
   ]
  },
  {
   "cell_type": "markdown",
   "metadata": {},
   "source": [
    "$$\n",
    "\\delta \\mathbf{K}^s = 0.0 \\bigg{(} \\sum_{i=1}^{5}\\sum_{j=1}^{5} \\mathcal{N}_{ij}(\\mu,\\sigma^2) e_i \\otimes e_j \\bigg{)}\n",
    "$$"
   ]
  },
  {
   "cell_type": "code",
   "execution_count": null,
   "metadata": {},
   "outputs": [],
   "source": []
  }
 ],
 "metadata": {
  "kernelspec": {
   "display_name": "Python (NDCSI)",
   "language": "python",
   "name": "ndcsi"
  },
  "language_info": {
   "codemirror_mode": {
    "name": "ipython",
    "version": 3
   },
   "file_extension": ".py",
   "mimetype": "text/x-python",
   "name": "python",
   "nbconvert_exporter": "python",
   "pygments_lexer": "ipython3",
   "version": "3.6.6"
  }
 },
 "nbformat": 4,
 "nbformat_minor": 2
}

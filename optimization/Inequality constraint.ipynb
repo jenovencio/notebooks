{
 "cells": [
  {
   "cell_type": "markdown",
   "metadata": {},
   "source": [
    "# Inequality Constraint (KKT)\n",
    "\n",
    "Minime \n",
    "$$\n",
    "f(x_1,x_2) = x_1^2 + x_2^2 -14 x_1 - 6 x_2\n",
    "$$\n",
    "\n",
    "Subject to:\n",
    "$$\n",
    "g_1(x_1,x_2) =  x_1 + x_2 - 2 \\leq 0 \\\\\n",
    "g_2(x_1,x_2) =  x_1 + x_2 - 3 \\leq 0\n",
    "$$\n",
    "\n",
    "Solution can be found by solving the stationary point of the Lagrangien function:\n",
    "\n",
    "$$\n",
    "L(x_1,x_2,\\lambda_1,\\lambda_2) = f(x_1,x_2) + \\lambda_1 g_1(x_1,x_2) + \\lambda_2 g_2(x_1,x_2)\n",
    "$$\n",
    "\n",
    "The KKT condition:\n",
    "\n",
    "$$\n",
    "\\nabla L_x = 0 \\\\\n",
    "\\nabla L_\\lambda = 0\n",
    "$$\n",
    "\n",
    "where \n",
    "$$\n",
    "g(x) \\leq 0 \\\\\n",
    "\\lambda*g(x) = 0\n",
    "$$\n",
    "\n",
    "Let's assume that both constraint are active:\n",
    "\n",
    "$$\n",
    "\\begin{bmatrix}\n",
    "2 & 0 & 1 & 1 \\\\\n",
    "0 & 2 & 1 & 2 \\\\\n",
    "1 & 1 & 0 & 0\\\\\n",
    "1 & 2 & 0 & 0 \n",
    "\\end{bmatrix}\n",
    "\\begin{bmatrix}\n",
    "x_1 \\\\\n",
    "x_2 \\\\\n",
    "\\lambda_1\\\\\n",
    "\\lambda_2\n",
    "\\end{bmatrix}\n",
    "=\n",
    "\\begin{bmatrix}\n",
    "14 \\\\\n",
    "6 \\\\\n",
    "2\\\\\n",
    "3\n",
    "\\end{bmatrix}\n",
    "$$\n",
    "\n",
    "The solution vector is $[1, 1, 20, -8]$\n",
    "\n",
    "The constraint are satisfied and the function value is $-18$.\n",
    "If we active only the first constraint we get the following system.\n",
    "\n",
    "$$\n",
    "\\begin{bmatrix}\n",
    "2 & 0 & 1 & 1 \\\\\n",
    "0 & 2 & 1 & 2 \\\\\n",
    "1 & 1 & 0 & 0\\\\\n",
    "0 & 0 & 0 & 0 \n",
    "\\end{bmatrix}\n",
    "\\begin{bmatrix}\n",
    "x_1 \\\\\n",
    "x_2 \\\\\n",
    "\\lambda_1\\\\\n",
    "\\lambda_2\n",
    "\\end{bmatrix}\n",
    "=\n",
    "\\begin{bmatrix}\n",
    "14 \\\\\n",
    "6 \\\\\n",
    "2\\\\\n",
    "0\n",
    "\\end{bmatrix}\n",
    "$$\n",
    "\n",
    "Which is singular system, but can be solved with a CG method. The solution vector is $[3., -1.,  8.,  0.]$ which respect the constraint and has $f(x^*)=-26$, which is better solution than the previous solution.\n",
    "\n",
    "If we either deactive all the constraint or deactive only the secong one, the constraints are violated. Therefore, the optimion solution is found when the first contraint is active and the second one is desactive.\n"
   ]
  },
  {
   "cell_type": "code",
   "execution_count": 368,
   "metadata": {},
   "outputs": [],
   "source": [
    "import numpy as np\n",
    "from scipy import sparse\n",
    "from scipy.sparse import linalg\n",
    "from scipy import optimize\n",
    "\n",
    "\n",
    "\n",
    "def inner(active_set):\n",
    "    f = lambda  x1,x2 : (x1-14.)*x1 + (x2-6.)*x2\n",
    "    g1 = lambda  x1,x2 : x1 + x2 -2\n",
    "    g2 = lambda  x1,x2 : x1 + x2 -3\n",
    "\n",
    "    Jf = lambda  x1,x2 : np.array([2.*x1-14,2*x2-6])\n",
    "    J2f = lambda  x1,x2 : np.array([[2.,0.],[0.,2.]])\n",
    "    Jg1 = lambda  x1,x2 : np.array([[1.,1.]])\n",
    "    Jg2 = lambda  x1,x2 : np.array([[1.,2.]])\n",
    "\n",
    "    x0 = np.array([0.,0])\n",
    "    H = J2f(*x0)\n",
    "    DG = np.vstack((active_set[0]*Jg1(*x0),active_set[1]*Jg2(*x0)))\n",
    "    f0 = Jf(*x0)\n",
    "    g0 = np.array([active_set[0]*g1(*x0),active_set[1]*g2(*x0)])\n",
    "    Zeros = np.diag(active_set) - np.eye(len(active_set))\n",
    "    A = sparse.bmat([[H,DG.T],\n",
    "                  [DG,None]]).A\n",
    "    b = -np.concatenate((f0,g0))\n",
    "    x_aug_sol, info = linalg.cg(A,b)\n",
    "    return x_aug_sol[:2],x_aug_sol[2:]\n",
    "\n",
    "\n",
    "active_set = np.array([1,1])\n",
    "\n",
    "def update_active_set(l):\n",
    "    return np.array(list(map(lambda li : np.sign(max([li,0])),l)))\n",
    "    \n",
    "    \n",
    "for i in range(10):\n",
    "    x_sol, l_sol = inner(active_set)\n",
    "    if min(l_sol)>=0:\n",
    "        break\n",
    "    else:\n",
    "        active_set = update_active_set(l_sol)\n",
    "    \n",
    "    "
   ]
  },
  {
   "cell_type": "code",
   "execution_count": 369,
   "metadata": {},
   "outputs": [
    {
     "name": "stdout",
     "output_type": "stream",
     "text": [
      "[ 3. -1.]\n",
      "[8. 0.]\n"
     ]
    }
   ],
   "source": [
    "\n",
    "print(x_sol) \n",
    "print(l_sol)"
   ]
  },
  {
   "cell_type": "code",
   "execution_count": 370,
   "metadata": {},
   "outputs": [
    {
     "data": {
      "text/plain": [
       "1"
      ]
     },
     "execution_count": 370,
     "metadata": {},
     "output_type": "execute_result"
    }
   ],
   "source": [
    "np.sign(max([10,0]))"
   ]
  },
  {
   "cell_type": "code",
   "execution_count": 363,
   "metadata": {},
   "outputs": [],
   "source": [
    "kk = lambda li : np.heaviside(max(li,0))"
   ]
  },
  {
   "cell_type": "code",
   "execution_count": 364,
   "metadata": {},
   "outputs": [
    {
     "ename": "ValueError",
     "evalue": "invalid number of arguments",
     "output_type": "error",
     "traceback": [
      "\u001b[0;31m---------------------------------------------------------------------------\u001b[0m",
      "\u001b[0;31mValueError\u001b[0m                                Traceback (most recent call last)",
      "\u001b[0;32m<ipython-input-364-c1d1b9390484>\u001b[0m in \u001b[0;36m<module>\u001b[0;34m\u001b[0m\n\u001b[0;32m----> 1\u001b[0;31m \u001b[0mkk\u001b[0m\u001b[0;34m(\u001b[0m\u001b[0;36m10\u001b[0m\u001b[0;34m)\u001b[0m\u001b[0;34m\u001b[0m\u001b[0;34m\u001b[0m\u001b[0m\n\u001b[0m",
      "\u001b[0;32m<ipython-input-363-782c168554e1>\u001b[0m in \u001b[0;36m<lambda>\u001b[0;34m(li)\u001b[0m\n\u001b[0;32m----> 1\u001b[0;31m \u001b[0mkk\u001b[0m \u001b[0;34m=\u001b[0m \u001b[0;32mlambda\u001b[0m \u001b[0mli\u001b[0m \u001b[0;34m:\u001b[0m \u001b[0mnp\u001b[0m\u001b[0;34m.\u001b[0m\u001b[0mheaviside\u001b[0m\u001b[0;34m(\u001b[0m\u001b[0mmax\u001b[0m\u001b[0;34m(\u001b[0m\u001b[0mli\u001b[0m\u001b[0;34m,\u001b[0m\u001b[0;36m0\u001b[0m\u001b[0;34m)\u001b[0m\u001b[0;34m)\u001b[0m\u001b[0;34m\u001b[0m\u001b[0;34m\u001b[0m\u001b[0m\n\u001b[0m",
      "\u001b[0;31mValueError\u001b[0m: invalid number of arguments"
     ]
    }
   ],
   "source": [
    "kk(10)"
   ]
  },
  {
   "cell_type": "code",
   "execution_count": 254,
   "metadata": {},
   "outputs": [
    {
     "data": {
      "text/plain": [
       "array([ 3., -1.,  8.,  0.])"
      ]
     },
     "execution_count": 254,
     "metadata": {},
     "output_type": "execute_result"
    }
   ],
   "source": [
    "x_aug_sol, info = linalg.cg(A,b)\n",
    "x_aug_sol"
   ]
  },
  {
   "cell_type": "code",
   "execution_count": 255,
   "metadata": {},
   "outputs": [
    {
     "data": {
      "text/plain": [
       "-26.000000000000007"
      ]
     },
     "execution_count": 255,
     "metadata": {},
     "output_type": "execute_result"
    }
   ],
   "source": [
    "f(*x_aug_sol[:2])"
   ]
  },
  {
   "cell_type": "code",
   "execution_count": 256,
   "metadata": {},
   "outputs": [
    {
     "data": {
      "text/plain": [
       "8.881784197001252e-16"
      ]
     },
     "execution_count": 256,
     "metadata": {},
     "output_type": "execute_result"
    }
   ],
   "source": [
    "g1(*x_aug_sol[:2])"
   ]
  },
  {
   "cell_type": "code",
   "execution_count": 257,
   "metadata": {},
   "outputs": [
    {
     "data": {
      "text/plain": [
       "-0.9999999999999991"
      ]
     },
     "execution_count": 257,
     "metadata": {},
     "output_type": "execute_result"
    }
   ],
   "source": [
    "g2(*x_aug_sol[:2])"
   ]
  },
  {
   "cell_type": "markdown",
   "metadata": {},
   "source": [
    "Let's try to find a solution for the above problem using an interior point algorithm.\n",
    "First we define again the Lagrangian function.\n",
    "$$\n",
    "L(x_1,x_2,\\lambda_1,\\lambda_2) = f(x_1,x_2) + \\tilde{g_1}(x_1,x_2,\\lambda_1,\\lambda_2) + \\tilde{g_2}(x_1,x_2,\\lambda_1,\\lambda_2)\n",
    "$$\n",
    "\n",
    "Then we define a nonlinear constraint such that\n",
    "$$\n",
    "\\tilde{g_1}(x_1,x_2,\\lambda_1,\\lambda_2) = \\lambda_1^+ g_1(x) = 0\\\\\n",
    "\\tilde{g_2}(x_1,x_2,\\lambda_1,\\lambda_2) = \\lambda_2^+ g_2(x) = 0\n",
    "$$\n",
    "\n",
    "where $\\lambda_i^+$ is a \n",
    "$$\n",
    "\\begin{cases}\n",
    "    0, & \\text{if } \\lambda_i \\leq 0\\\\\n",
    "    \\lambda_i,       & \\text{otherwise}\n",
    "\\end{cases}\n",
    "$$\n",
    "\n",
    "\n",
    "The KKT condition:\n",
    "\n",
    "$$\n",
    "\\nabla f_x + \\nabla  \\tilde{g} = 0 \\\\\n",
    "\\tilde{g} = 0\n",
    "$$\n",
    "\n",
    "where \n",
    "$$\n",
    "g(x) \\leq 0 \\\\\n",
    "\\lambda*g(x) = 0\n",
    "$$"
   ]
  },
  {
   "cell_type": "code",
   "execution_count": 316,
   "metadata": {},
   "outputs": [],
   "source": [
    "f_ = lambda  x1,x2,l1,l2 : (x1-14.)*x1 + (x2-6.)*x2\n",
    "g1_ = lambda  x1,x2,l1,l2 : np.heaviside(-l1,0)*(x1 + x2 -2) + l1*(x1 + x2 -2)\n",
    "g2_ = lambda  x1,x2,l1,l2 : np.heaviside(-l2,0)*(x1 + x2 -3) + l2*(x1 + x2 -2)\n",
    "\n",
    "Jg1_ = lambda  x1,x2,l1,l2 : l1*Jg1(x1,x2)\n",
    "Jg2_ = lambda  x1,x2,l1,l2 : l2*Jg2(x1,x2)\n",
    "\n",
    "F = lambda  x1,x2,l1,l2 : np.array(Jf(x1,x2) +  Jg1_(x1,x2,l1,l2) + Jg2_(x1,x2,l1,l2)).flatten()\n",
    "G = lambda  x1,x2,l1,l2 : np.array([g1_(x1,x2,l1,l2),g2_(x1,x2,l1,l2)])\n",
    "\n",
    "R = lambda  x : np.concatenate((F(*x), G(*x)))"
   ]
  },
  {
   "cell_type": "code",
   "execution_count": 317,
   "metadata": {},
   "outputs": [
    {
     "data": {
      "text/plain": [
       "-26.000000000000007"
      ]
     },
     "execution_count": 317,
     "metadata": {},
     "output_type": "execute_result"
    }
   ],
   "source": [
    "f_(*x_aug_sol)"
   ]
  },
  {
   "cell_type": "code",
   "execution_count": 318,
   "metadata": {},
   "outputs": [
    {
     "data": {
      "text/plain": [
       "7.105427357600999e-15"
      ]
     },
     "execution_count": 318,
     "metadata": {},
     "output_type": "execute_result"
    }
   ],
   "source": [
    "g1_(*x_aug_sol)"
   ]
  },
  {
   "cell_type": "code",
   "execution_count": 319,
   "metadata": {},
   "outputs": [
    {
     "data": {
      "text/plain": [
       "0.0"
      ]
     },
     "execution_count": 319,
     "metadata": {},
     "output_type": "execute_result"
    }
   ],
   "source": [
    "g2_(*x_aug_sol)"
   ]
  },
  {
   "cell_type": "code",
   "execution_count": 320,
   "metadata": {},
   "outputs": [
    {
     "data": {
      "text/plain": [
       "-0.9999999999999991"
      ]
     },
     "execution_count": 320,
     "metadata": {},
     "output_type": "execute_result"
    }
   ],
   "source": [
    "g2(*x_aug_sol[0:2])"
   ]
  },
  {
   "cell_type": "code",
   "execution_count": 321,
   "metadata": {},
   "outputs": [
    {
     "data": {
      "text/plain": [
       "array([-2.66453526e-15, -3.55271368e-15,  7.10542736e-15,  0.00000000e+00])"
      ]
     },
     "execution_count": 321,
     "metadata": {},
     "output_type": "execute_result"
    }
   ],
   "source": [
    "R(x_aug_sol)"
   ]
  },
  {
   "cell_type": "code",
   "execution_count": 322,
   "metadata": {},
   "outputs": [
    {
     "data": {
      "text/plain": [
       "array([[8., 8.]])"
      ]
     },
     "execution_count": 322,
     "metadata": {},
     "output_type": "execute_result"
    }
   ],
   "source": [
    "Jg1_(*x_aug_sol)"
   ]
  },
  {
   "cell_type": "code",
   "execution_count": 323,
   "metadata": {},
   "outputs": [
    {
     "data": {
      "text/plain": [
       "array([[1., 1.]])"
      ]
     },
     "execution_count": 323,
     "metadata": {},
     "output_type": "execute_result"
    }
   ],
   "source": [
    "Jg1(*x_aug_sol[0:2])"
   ]
  },
  {
   "cell_type": "code",
   "execution_count": 324,
   "metadata": {},
   "outputs": [
    {
     "data": {
      "text/plain": [
       "array([-2.66453526e-15, -3.55271368e-15])"
      ]
     },
     "execution_count": 324,
     "metadata": {},
     "output_type": "execute_result"
    }
   ],
   "source": [
    "F(*x_aug_sol)"
   ]
  },
  {
   "cell_type": "code",
   "execution_count": 325,
   "metadata": {},
   "outputs": [
    {
     "data": {
      "text/plain": [
       "array([[8., 8.]])"
      ]
     },
     "execution_count": 325,
     "metadata": {},
     "output_type": "execute_result"
    }
   ],
   "source": [
    "Jg1_(*x_aug_sol)"
   ]
  },
  {
   "cell_type": "code",
   "execution_count": 326,
   "metadata": {},
   "outputs": [
    {
     "data": {
      "text/plain": [
       "array([7.10542736e-15, 0.00000000e+00])"
      ]
     },
     "execution_count": 326,
     "metadata": {},
     "output_type": "execute_result"
    }
   ],
   "source": [
    "G(*x_aug_sol)"
   ]
  },
  {
   "cell_type": "code",
   "execution_count": 327,
   "metadata": {},
   "outputs": [],
   "source": [
    "sol = optimize.root(R,np.array([1.,1.,-1.,-1.]),method='krylov',tol=1.0e-12)"
   ]
  },
  {
   "cell_type": "code",
   "execution_count": 328,
   "metadata": {},
   "outputs": [
    {
     "data": {
      "text/plain": [
       "array([ 7.95171482,  4.40342964, -1.        , -0.90342964])"
      ]
     },
     "execution_count": 328,
     "metadata": {},
     "output_type": "execute_result"
    }
   ],
   "source": [
    "sol.x"
   ]
  },
  {
   "cell_type": "code",
   "execution_count": 329,
   "metadata": {},
   "outputs": [
    {
     "data": {
      "text/plain": [
       "-55.124624136524055"
      ]
     },
     "execution_count": 329,
     "metadata": {},
     "output_type": "execute_result"
    }
   ],
   "source": [
    "f_(*sol.x)"
   ]
  },
  {
   "cell_type": "code",
   "execution_count": 330,
   "metadata": {},
   "outputs": [
    {
     "data": {
      "text/plain": [
       "0.0"
      ]
     },
     "execution_count": 330,
     "metadata": {},
     "output_type": "execute_result"
    }
   ],
   "source": [
    "g1_(*sol.x)"
   ]
  },
  {
   "cell_type": "code",
   "execution_count": 331,
   "metadata": {},
   "outputs": [
    {
     "data": {
      "text/plain": [
       "-5.133671265866724e-13"
      ]
     },
     "execution_count": 331,
     "metadata": {},
     "output_type": "execute_result"
    }
   ],
   "source": [
    "g2_(*sol.x)"
   ]
  },
  {
   "cell_type": "code",
   "execution_count": 332,
   "metadata": {},
   "outputs": [
    {
     "data": {
      "text/plain": [
       "-55.124624136524055"
      ]
     },
     "execution_count": 332,
     "metadata": {},
     "output_type": "execute_result"
    }
   ],
   "source": [
    "f(*sol.x[:2])"
   ]
  },
  {
   "cell_type": "code",
   "execution_count": 333,
   "metadata": {},
   "outputs": [
    {
     "data": {
      "text/plain": [
       "10.355144464165587"
      ]
     },
     "execution_count": 333,
     "metadata": {},
     "output_type": "execute_result"
    }
   ],
   "source": [
    "g1(*sol.x[:2])"
   ]
  },
  {
   "cell_type": "code",
   "execution_count": 334,
   "metadata": {},
   "outputs": [
    {
     "data": {
      "text/plain": [
       "9.355144464165587"
      ]
     },
     "execution_count": 334,
     "metadata": {},
     "output_type": "execute_result"
    }
   ],
   "source": [
    "g2(*sol.x[:2])"
   ]
  },
  {
   "cell_type": "code",
   "execution_count": null,
   "metadata": {},
   "outputs": [],
   "source": []
  }
 ],
 "metadata": {
  "kernelspec": {
   "display_name": "Python 3",
   "language": "python",
   "name": "python3"
  },
  "language_info": {
   "codemirror_mode": {
    "name": "ipython",
    "version": 3
   },
   "file_extension": ".py",
   "mimetype": "text/x-python",
   "name": "python",
   "nbconvert_exporter": "python",
   "pygments_lexer": "ipython3",
   "version": "3.7.2"
  }
 },
 "nbformat": 4,
 "nbformat_minor": 2
}
